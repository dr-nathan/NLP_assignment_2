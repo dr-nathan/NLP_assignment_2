{
 "cells": [
  {
   "cell_type": "code",
   "execution_count": 1,
   "metadata": {},
   "outputs": [
    {
     "name": "stdout",
     "output_type": "stream",
     "text": [
      "^C\n",
      "Requirement already satisfied: nltk in c:\\users\\nvs690\\miniconda3\\envs\\nlp\\lib\\site-packages (3.7)\n",
      "Requirement already satisfied: click in c:\\users\\nvs690\\miniconda3\\envs\\nlp\\lib\\site-packages (from nltk) (8.0.4)\n",
      "Requirement already satisfied: joblib in c:\\users\\nvs690\\miniconda3\\envs\\nlp\\lib\\site-packages (from nltk) (1.1.0)\n",
      "Requirement already satisfied: tqdm in c:\\users\\nvs690\\miniconda3\\envs\\nlp\\lib\\site-packages (from nltk) (4.64.0)\n",
      "Requirement already satisfied: regex>=2021.8.3 in c:\\users\\nvs690\\miniconda3\\envs\\nlp\\lib\\site-packages (from nltk) (2022.3.15)\n",
      "Requirement already satisfied: colorama in c:\\users\\nvs690\\miniconda3\\envs\\nlp\\lib\\site-packages (from click->nltk) (0.4.4)\n",
      "Requirement already satisfied: pandas in c:\\users\\nvs690\\miniconda3\\envs\\nlp\\lib\\site-packages (1.4.2)\n",
      "Requirement already satisfied: pytz>=2020.1 in c:\\users\\nvs690\\miniconda3\\envs\\nlp\\lib\\site-packages (from pandas) (2022.1)\n",
      "Requirement already satisfied: numpy>=1.18.5 in c:\\users\\nvs690\\miniconda3\\envs\\nlp\\lib\\site-packages (from pandas) (1.22.3)\n",
      "Requirement already satisfied: python-dateutil>=2.8.1 in c:\\users\\nvs690\\miniconda3\\envs\\nlp\\lib\\site-packages (from pandas) (2.8.2)\n",
      "Requirement already satisfied: six>=1.5 in c:\\users\\nvs690\\miniconda3\\envs\\nlp\\lib\\site-packages (from python-dateutil>=2.8.1->pandas) (1.16.0)\n",
      "Requirement already satisfied: simpletransformers in c:\\users\\nvs690\\miniconda3\\envs\\nlp\\lib\\site-packages (0.63.6)\n",
      "Requirement already satisfied: wandb>=0.10.32 in c:\\users\\nvs690\\miniconda3\\envs\\nlp\\lib\\site-packages (from simpletransformers) (0.12.16)\n",
      "Requirement already satisfied: tokenizers in c:\\users\\nvs690\\miniconda3\\envs\\nlp\\lib\\site-packages (from simpletransformers) (0.12.1)\n",
      "Requirement already satisfied: regex in c:\\users\\nvs690\\miniconda3\\envs\\nlp\\lib\\site-packages (from simpletransformers) (2022.3.15)\n",
      "Requirement already satisfied: tqdm>=4.47.0 in c:\\users\\nvs690\\miniconda3\\envs\\nlp\\lib\\site-packages (from simpletransformers) (4.64.0)\n",
      "Requirement already satisfied: streamlit in c:\\users\\nvs690\\miniconda3\\envs\\nlp\\lib\\site-packages (from simpletransformers) (1.8.1)\n",
      "Requirement already satisfied: scipy in c:\\users\\nvs690\\miniconda3\\envs\\nlp\\lib\\site-packages (from simpletransformers) (1.8.0)\n",
      "Requirement already satisfied: scikit-learn in c:\\users\\nvs690\\miniconda3\\envs\\nlp\\lib\\site-packages (from simpletransformers) (1.0.2)\n",
      "Requirement already satisfied: pandas in c:\\users\\nvs690\\miniconda3\\envs\\nlp\\lib\\site-packages (from simpletransformers) (1.4.2)\n",
      "Requirement already satisfied: tensorboard in c:\\users\\nvs690\\miniconda3\\envs\\nlp\\lib\\site-packages (from simpletransformers) (2.9.0)\n",
      "Requirement already satisfied: sentencepiece in c:\\users\\nvs690\\miniconda3\\envs\\nlp\\lib\\site-packages (from simpletransformers) (0.1.96)\n",
      "Requirement already satisfied: requests in c:\\users\\nvs690\\miniconda3\\envs\\nlp\\lib\\site-packages (from simpletransformers) (2.27.1)\n",
      "Requirement already satisfied: numpy in c:\\users\\nvs690\\miniconda3\\envs\\nlp\\lib\\site-packages (from simpletransformers) (1.22.3)\n",
      "Requirement already satisfied: transformers>=4.6.0 in c:\\users\\nvs690\\miniconda3\\envs\\nlp\\lib\\site-packages (from simpletransformers) (4.18.0)\n",
      "Requirement already satisfied: datasets in c:\\users\\nvs690\\miniconda3\\envs\\nlp\\lib\\site-packages (from simpletransformers) (2.1.0)\n",
      "Requirement already satisfied: seqeval in c:\\users\\nvs690\\miniconda3\\envs\\nlp\\lib\\site-packages (from simpletransformers) (1.2.2)\n",
      "Requirement already satisfied: colorama in c:\\users\\nvs690\\miniconda3\\envs\\nlp\\lib\\site-packages (from tqdm>=4.47.0->simpletransformers) (0.4.4)\n",
      "Requirement already satisfied: huggingface-hub<1.0,>=0.1.0 in c:\\users\\nvs690\\miniconda3\\envs\\nlp\\lib\\site-packages (from transformers>=4.6.0->simpletransformers) (0.5.1)\n",
      "Requirement already satisfied: filelock in c:\\users\\nvs690\\miniconda3\\envs\\nlp\\lib\\site-packages (from transformers>=4.6.0->simpletransformers) (3.6.0)\n",
      "Requirement already satisfied: packaging>=20.0 in c:\\users\\nvs690\\miniconda3\\envs\\nlp\\lib\\site-packages (from transformers>=4.6.0->simpletransformers) (21.3)\n",
      "Requirement already satisfied: sacremoses in c:\\users\\nvs690\\miniconda3\\envs\\nlp\\lib\\site-packages (from transformers>=4.6.0->simpletransformers) (0.0.53)\n",
      "Requirement already satisfied: pyyaml>=5.1 in c:\\users\\nvs690\\miniconda3\\envs\\nlp\\lib\\site-packages (from transformers>=4.6.0->simpletransformers) (6.0)\n",
      "Requirement already satisfied: typing-extensions>=3.7.4.3 in c:\\users\\nvs690\\miniconda3\\envs\\nlp\\lib\\site-packages (from huggingface-hub<1.0,>=0.1.0->transformers>=4.6.0->simpletransformers) (4.1.1)\n",
      "Requirement already satisfied: pyparsing!=3.0.5,>=2.0.2 in c:\\users\\nvs690\\miniconda3\\envs\\nlp\\lib\\site-packages (from packaging>=20.0->transformers>=4.6.0->simpletransformers) (3.0.7)\n",
      "Requirement already satisfied: setuptools in c:\\users\\nvs690\\miniconda3\\envs\\nlp\\lib\\site-packages (from wandb>=0.10.32->simpletransformers) (58.0.4)\n",
      "Requirement already satisfied: GitPython>=1.0.0 in c:\\users\\nvs690\\miniconda3\\envs\\nlp\\lib\\site-packages (from wandb>=0.10.32->simpletransformers) (3.1.27)\n",
      "Requirement already satisfied: psutil>=5.0.0 in c:\\users\\nvs690\\miniconda3\\envs\\nlp\\lib\\site-packages (from wandb>=0.10.32->simpletransformers) (5.9.0)\n",
      "Requirement already satisfied: promise<3,>=2.0 in c:\\users\\nvs690\\miniconda3\\envs\\nlp\\lib\\site-packages (from wandb>=0.10.32->simpletransformers) (2.3)\n",
      "Requirement already satisfied: Click!=8.0.0,>=7.0 in c:\\users\\nvs690\\miniconda3\\envs\\nlp\\lib\\site-packages (from wandb>=0.10.32->simpletransformers) (8.0.4)\n",
      "Requirement already satisfied: sentry-sdk>=1.0.0 in c:\\users\\nvs690\\miniconda3\\envs\\nlp\\lib\\site-packages (from wandb>=0.10.32->simpletransformers) (1.5.11)\n",
      "Requirement already satisfied: protobuf>=3.12.0 in c:\\users\\nvs690\\miniconda3\\envs\\nlp\\lib\\site-packages (from wandb>=0.10.32->simpletransformers) (3.20.1)\n",
      "Requirement already satisfied: six>=1.13.0 in c:\\users\\nvs690\\miniconda3\\envs\\nlp\\lib\\site-packages (from wandb>=0.10.32->simpletransformers) (1.16.0)\n",
      "Requirement already satisfied: pathtools in c:\\users\\nvs690\\miniconda3\\envs\\nlp\\lib\\site-packages (from wandb>=0.10.32->simpletransformers) (0.1.2)\n",
      "Requirement already satisfied: docker-pycreds>=0.4.0 in c:\\users\\nvs690\\miniconda3\\envs\\nlp\\lib\\site-packages (from wandb>=0.10.32->simpletransformers) (0.4.0)\n",
      "Requirement already satisfied: setproctitle in c:\\users\\nvs690\\miniconda3\\envs\\nlp\\lib\\site-packages (from wandb>=0.10.32->simpletransformers) (1.2.3)\n",
      "Requirement already satisfied: python-dateutil>=2.6.1 in c:\\users\\nvs690\\miniconda3\\envs\\nlp\\lib\\site-packages (from wandb>=0.10.32->simpletransformers) (2.8.2)\n",
      "Requirement already satisfied: shortuuid>=0.5.0 in c:\\users\\nvs690\\miniconda3\\envs\\nlp\\lib\\site-packages (from wandb>=0.10.32->simpletransformers) (1.0.8)\n",
      "Requirement already satisfied: gitdb<5,>=4.0.1 in c:\\users\\nvs690\\miniconda3\\envs\\nlp\\lib\\site-packages (from GitPython>=1.0.0->wandb>=0.10.32->simpletransformers) (4.0.9)\n",
      "Requirement already satisfied: smmap<6,>=3.0.1 in c:\\users\\nvs690\\miniconda3\\envs\\nlp\\lib\\site-packages (from gitdb<5,>=4.0.1->GitPython>=1.0.0->wandb>=0.10.32->simpletransformers) (5.0.0)\n",
      "Requirement already satisfied: certifi>=2017.4.17 in c:\\users\\nvs690\\miniconda3\\envs\\nlp\\lib\\site-packages (from requests->simpletransformers) (2021.10.8)\n",
      "Requirement already satisfied: charset-normalizer~=2.0.0 in c:\\users\\nvs690\\miniconda3\\envs\\nlp\\lib\\site-packages (from requests->simpletransformers) (2.0.12)\n",
      "Requirement already satisfied: idna<4,>=2.5 in c:\\users\\nvs690\\miniconda3\\envs\\nlp\\lib\\site-packages (from requests->simpletransformers) (3.3)\n",
      "Requirement already satisfied: urllib3<1.27,>=1.21.1 in c:\\users\\nvs690\\miniconda3\\envs\\nlp\\lib\\site-packages (from requests->simpletransformers) (1.26.9)\n",
      "Requirement already satisfied: responses<0.19 in c:\\users\\nvs690\\miniconda3\\envs\\nlp\\lib\\site-packages (from datasets->simpletransformers) (0.18.0)\n",
      "Requirement already satisfied: aiohttp in c:\\users\\nvs690\\miniconda3\\envs\\nlp\\lib\\site-packages (from datasets->simpletransformers) (3.8.1)\n",
      "Requirement already satisfied: fsspec[http]>=2021.05.0 in c:\\users\\nvs690\\miniconda3\\envs\\nlp\\lib\\site-packages (from datasets->simpletransformers) (2022.3.0)\n",
      "Requirement already satisfied: pyarrow>=5.0.0 in c:\\users\\nvs690\\miniconda3\\envs\\nlp\\lib\\site-packages (from datasets->simpletransformers) (7.0.0)\n",
      "Requirement already satisfied: dill in c:\\users\\nvs690\\miniconda3\\envs\\nlp\\lib\\site-packages (from datasets->simpletransformers) (0.3.4)\n",
      "Requirement already satisfied: xxhash in c:\\users\\nvs690\\miniconda3\\envs\\nlp\\lib\\site-packages (from datasets->simpletransformers) (3.0.0)\n",
      "Requirement already satisfied: multiprocess in c:\\users\\nvs690\\miniconda3\\envs\\nlp\\lib\\site-packages (from datasets->simpletransformers) (0.70.12.2)\n",
      "Requirement already satisfied: frozenlist>=1.1.1 in c:\\users\\nvs690\\miniconda3\\envs\\nlp\\lib\\site-packages (from aiohttp->datasets->simpletransformers) (1.3.0)\n",
      "Requirement already satisfied: attrs>=17.3.0 in c:\\users\\nvs690\\miniconda3\\envs\\nlp\\lib\\site-packages (from aiohttp->datasets->simpletransformers) (21.4.0)\n",
      "Requirement already satisfied: async-timeout<5.0,>=4.0.0a3 in c:\\users\\nvs690\\miniconda3\\envs\\nlp\\lib\\site-packages (from aiohttp->datasets->simpletransformers) (4.0.2)\n",
      "Requirement already satisfied: multidict<7.0,>=4.5 in c:\\users\\nvs690\\miniconda3\\envs\\nlp\\lib\\site-packages (from aiohttp->datasets->simpletransformers) (6.0.2)\n",
      "Requirement already satisfied: aiosignal>=1.1.2 in c:\\users\\nvs690\\miniconda3\\envs\\nlp\\lib\\site-packages (from aiohttp->datasets->simpletransformers) (1.2.0)\n",
      "Requirement already satisfied: yarl<2.0,>=1.0 in c:\\users\\nvs690\\miniconda3\\envs\\nlp\\lib\\site-packages (from aiohttp->datasets->simpletransformers) (1.7.2)\n",
      "Requirement already satisfied: pytz>=2020.1 in c:\\users\\nvs690\\miniconda3\\envs\\nlp\\lib\\site-packages (from pandas->simpletransformers) (2022.1)\n",
      "Requirement already satisfied: joblib in c:\\users\\nvs690\\miniconda3\\envs\\nlp\\lib\\site-packages (from sacremoses->transformers>=4.6.0->simpletransformers) (1.1.0)\n",
      "Requirement already satisfied: threadpoolctl>=2.0.0 in c:\\users\\nvs690\\miniconda3\\envs\\nlp\\lib\\site-packages (from scikit-learn->simpletransformers) (3.1.0)\n",
      "Requirement already satisfied: pympler>=0.9 in c:\\users\\nvs690\\miniconda3\\envs\\nlp\\lib\\site-packages (from streamlit->simpletransformers) (1.0.1)\n",
      "Requirement already satisfied: toml in c:\\users\\nvs690\\miniconda3\\envs\\nlp\\lib\\site-packages (from streamlit->simpletransformers) (0.10.2)\n",
      "Requirement already satisfied: watchdog in c:\\users\\nvs690\\miniconda3\\envs\\nlp\\lib\\site-packages (from streamlit->simpletransformers) (2.1.7)\n",
      "Requirement already satisfied: importlib-metadata>=1.4 in c:\\users\\nvs690\\miniconda3\\envs\\nlp\\lib\\site-packages (from streamlit->simpletransformers) (4.11.3)\n",
      "Requirement already satisfied: semver in c:\\users\\nvs690\\miniconda3\\envs\\nlp\\lib\\site-packages (from streamlit->simpletransformers) (2.13.0)\n",
      "Requirement already satisfied: validators in c:\\users\\nvs690\\miniconda3\\envs\\nlp\\lib\\site-packages (from streamlit->simpletransformers) (0.18.2)\n",
      "Requirement already satisfied: blinker in c:\\users\\nvs690\\miniconda3\\envs\\nlp\\lib\\site-packages (from streamlit->simpletransformers) (1.4)\n",
      "Requirement already satisfied: pydeck>=0.1.dev5 in c:\\users\\nvs690\\miniconda3\\envs\\nlp\\lib\\site-packages (from streamlit->simpletransformers) (0.7.1)\n",
      "Requirement already satisfied: tornado>=5.0 in c:\\users\\nvs690\\miniconda3\\envs\\nlp\\lib\\site-packages (from streamlit->simpletransformers) (6.1)\n",
      "Requirement already satisfied: tzlocal in c:\\users\\nvs690\\miniconda3\\envs\\nlp\\lib\\site-packages (from streamlit->simpletransformers) (4.2)\n",
      "Requirement already satisfied: pillow>=6.2.0 in c:\\users\\nvs690\\miniconda3\\envs\\nlp\\lib\\site-packages (from streamlit->simpletransformers) (9.1.0)\n",
      "Requirement already satisfied: altair>=3.2.0 in c:\\users\\nvs690\\miniconda3\\envs\\nlp\\lib\\site-packages (from streamlit->simpletransformers) (4.2.0)\n",
      "Requirement already satisfied: cachetools>=4.0 in c:\\users\\nvs690\\miniconda3\\envs\\nlp\\lib\\site-packages (from streamlit->simpletransformers) (5.0.0)\n",
      "Requirement already satisfied: entrypoints in c:\\users\\nvs690\\miniconda3\\envs\\nlp\\lib\\site-packages (from altair>=3.2.0->streamlit->simpletransformers) (0.4)\n",
      "Requirement already satisfied: toolz in c:\\users\\nvs690\\miniconda3\\envs\\nlp\\lib\\site-packages (from altair>=3.2.0->streamlit->simpletransformers) (0.11.2)\n",
      "Requirement already satisfied: jinja2 in c:\\users\\nvs690\\miniconda3\\envs\\nlp\\lib\\site-packages (from altair>=3.2.0->streamlit->simpletransformers) (3.0.3)\n",
      "Requirement already satisfied: jsonschema>=3.0 in c:\\users\\nvs690\\miniconda3\\envs\\nlp\\lib\\site-packages (from altair>=3.2.0->streamlit->simpletransformers) (4.4.0)\n",
      "Requirement already satisfied: zipp>=0.5 in c:\\users\\nvs690\\miniconda3\\envs\\nlp\\lib\\site-packages (from importlib-metadata>=1.4->streamlit->simpletransformers) (3.8.0)\n",
      "Requirement already satisfied: pyrsistent!=0.17.0,!=0.17.1,!=0.17.2,>=0.14.0 in c:\\users\\nvs690\\miniconda3\\envs\\nlp\\lib\\site-packages (from jsonschema>=3.0->altair>=3.2.0->streamlit->simpletransformers) (0.18.1)\n",
      "Requirement already satisfied: importlib-resources>=1.4.0 in c:\\users\\nvs690\\miniconda3\\envs\\nlp\\lib\\site-packages (from jsonschema>=3.0->altair>=3.2.0->streamlit->simpletransformers) (5.6.0)\n",
      "Requirement already satisfied: ipykernel>=5.1.2 in c:\\users\\nvs690\\miniconda3\\envs\\nlp\\lib\\site-packages (from pydeck>=0.1.dev5->streamlit->simpletransformers) (6.12.1)\n",
      "Requirement already satisfied: traitlets>=4.3.2 in c:\\users\\nvs690\\miniconda3\\envs\\nlp\\lib\\site-packages (from pydeck>=0.1.dev5->streamlit->simpletransformers) (5.1.1)\n",
      "Requirement already satisfied: ipywidgets>=7.0.0 in c:\\users\\nvs690\\miniconda3\\envs\\nlp\\lib\\site-packages (from pydeck>=0.1.dev5->streamlit->simpletransformers) (7.7.0)\n",
      "Requirement already satisfied: debugpy>=1.0 in c:\\users\\nvs690\\miniconda3\\envs\\nlp\\lib\\site-packages (from ipykernel>=5.1.2->pydeck>=0.1.dev5->streamlit->simpletransformers) (1.6.0)\n",
      "Requirement already satisfied: jupyter-client>=6.1.12 in c:\\users\\nvs690\\miniconda3\\envs\\nlp\\lib\\site-packages (from ipykernel>=5.1.2->pydeck>=0.1.dev5->streamlit->simpletransformers) (7.2.2)\n",
      "Requirement already satisfied: matplotlib-inline>=0.1 in c:\\users\\nvs690\\miniconda3\\envs\\nlp\\lib\\site-packages (from ipykernel>=5.1.2->pydeck>=0.1.dev5->streamlit->simpletransformers) (0.1.3)\n",
      "Requirement already satisfied: nest-asyncio in c:\\users\\nvs690\\miniconda3\\envs\\nlp\\lib\\site-packages (from ipykernel>=5.1.2->pydeck>=0.1.dev5->streamlit->simpletransformers) (1.5.5)\n",
      "Requirement already satisfied: ipython>=7.23.1 in c:\\users\\nvs690\\miniconda3\\envs\\nlp\\lib\\site-packages (from ipykernel>=5.1.2->pydeck>=0.1.dev5->streamlit->simpletransformers) (7.32.0)\n",
      "Requirement already satisfied: backcall in c:\\users\\nvs690\\miniconda3\\envs\\nlp\\lib\\site-packages (from ipython>=7.23.1->ipykernel>=5.1.2->pydeck>=0.1.dev5->streamlit->simpletransformers) (0.2.0)\n",
      "Requirement already satisfied: pygments in c:\\users\\nvs690\\miniconda3\\envs\\nlp\\lib\\site-packages (from ipython>=7.23.1->ipykernel>=5.1.2->pydeck>=0.1.dev5->streamlit->simpletransformers) (2.11.2)\n",
      "Requirement already satisfied: jedi>=0.16 in c:\\users\\nvs690\\miniconda3\\envs\\nlp\\lib\\site-packages (from ipython>=7.23.1->ipykernel>=5.1.2->pydeck>=0.1.dev5->streamlit->simpletransformers) (0.18.1)\n",
      "Requirement already satisfied: pickleshare in c:\\users\\nvs690\\miniconda3\\envs\\nlp\\lib\\site-packages (from ipython>=7.23.1->ipykernel>=5.1.2->pydeck>=0.1.dev5->streamlit->simpletransformers) (0.7.5)\n",
      "Requirement already satisfied: decorator in c:\\users\\nvs690\\miniconda3\\envs\\nlp\\lib\\site-packages (from ipython>=7.23.1->ipykernel>=5.1.2->pydeck>=0.1.dev5->streamlit->simpletransformers) (5.1.1)\n",
      "Requirement already satisfied: prompt-toolkit!=3.0.0,!=3.0.1,<3.1.0,>=2.0.0 in c:\\users\\nvs690\\miniconda3\\envs\\nlp\\lib\\site-packages (from ipython>=7.23.1->ipykernel>=5.1.2->pydeck>=0.1.dev5->streamlit->simpletransformers) (3.0.29)\n",
      "Requirement already satisfied: nbformat>=4.2.0 in c:\\users\\nvs690\\miniconda3\\envs\\nlp\\lib\\site-packages (from ipywidgets>=7.0.0->pydeck>=0.1.dev5->streamlit->simpletransformers) (5.3.0)\n",
      "Requirement already satisfied: jupyterlab-widgets>=1.0.0 in c:\\users\\nvs690\\miniconda3\\envs\\nlp\\lib\\site-packages (from ipywidgets>=7.0.0->pydeck>=0.1.dev5->streamlit->simpletransformers) (1.1.0)\n",
      "Requirement already satisfied: widgetsnbextension~=3.6.0 in c:\\users\\nvs690\\miniconda3\\envs\\nlp\\lib\\site-packages (from ipywidgets>=7.0.0->pydeck>=0.1.dev5->streamlit->simpletransformers) (3.6.0)\n",
      "Requirement already satisfied: ipython-genutils~=0.2.0 in c:\\users\\nvs690\\miniconda3\\envs\\nlp\\lib\\site-packages (from ipywidgets>=7.0.0->pydeck>=0.1.dev5->streamlit->simpletransformers) (0.2.0)\n",
      "Requirement already satisfied: parso<0.9.0,>=0.8.0 in c:\\users\\nvs690\\miniconda3\\envs\\nlp\\lib\\site-packages (from jedi>=0.16->ipython>=7.23.1->ipykernel>=5.1.2->pydeck>=0.1.dev5->streamlit->simpletransformers) (0.8.3)\n",
      "Requirement already satisfied: MarkupSafe>=2.0 in c:\\users\\nvs690\\miniconda3\\envs\\nlp\\lib\\site-packages (from jinja2->altair>=3.2.0->streamlit->simpletransformers) (2.1.1)\n",
      "Requirement already satisfied: pyzmq>=22.3 in c:\\users\\nvs690\\miniconda3\\envs\\nlp\\lib\\site-packages (from jupyter-client>=6.1.12->ipykernel>=5.1.2->pydeck>=0.1.dev5->streamlit->simpletransformers) (22.3.0)\n",
      "Requirement already satisfied: jupyter-core>=4.9.2 in c:\\users\\nvs690\\miniconda3\\envs\\nlp\\lib\\site-packages (from jupyter-client>=6.1.12->ipykernel>=5.1.2->pydeck>=0.1.dev5->streamlit->simpletransformers) (4.9.2)\n",
      "Requirement already satisfied: pywin32>=1.0 in c:\\users\\nvs690\\miniconda3\\envs\\nlp\\lib\\site-packages (from jupyter-core>=4.9.2->jupyter-client>=6.1.12->ipykernel>=5.1.2->pydeck>=0.1.dev5->streamlit->simpletransformers) (303)\n",
      "Requirement already satisfied: fastjsonschema in c:\\users\\nvs690\\miniconda3\\envs\\nlp\\lib\\site-packages (from nbformat>=4.2.0->ipywidgets>=7.0.0->pydeck>=0.1.dev5->streamlit->simpletransformers) (2.15.3)\n",
      "Requirement already satisfied: wcwidth in c:\\users\\nvs690\\miniconda3\\envs\\nlp\\lib\\site-packages (from prompt-toolkit!=3.0.0,!=3.0.1,<3.1.0,>=2.0.0->ipython>=7.23.1->ipykernel>=5.1.2->pydeck>=0.1.dev5->streamlit->simpletransformers) (0.2.5)\n",
      "Requirement already satisfied: notebook>=4.4.1 in c:\\users\\nvs690\\miniconda3\\envs\\nlp\\lib\\site-packages (from widgetsnbextension~=3.6.0->ipywidgets>=7.0.0->pydeck>=0.1.dev5->streamlit->simpletransformers) (6.4.10)\n",
      "Requirement already satisfied: terminado>=0.8.3 in c:\\users\\nvs690\\miniconda3\\envs\\nlp\\lib\\site-packages (from notebook>=4.4.1->widgetsnbextension~=3.6.0->ipywidgets>=7.0.0->pydeck>=0.1.dev5->streamlit->simpletransformers) (0.13.3)\n",
      "Requirement already satisfied: argon2-cffi in c:\\users\\nvs690\\miniconda3\\envs\\nlp\\lib\\site-packages (from notebook>=4.4.1->widgetsnbextension~=3.6.0->ipywidgets>=7.0.0->pydeck>=0.1.dev5->streamlit->simpletransformers) (21.3.0)\n",
      "Requirement already satisfied: nbconvert>=5 in c:\\users\\nvs690\\miniconda3\\envs\\nlp\\lib\\site-packages (from notebook>=4.4.1->widgetsnbextension~=3.6.0->ipywidgets>=7.0.0->pydeck>=0.1.dev5->streamlit->simpletransformers) (6.4.5)\n",
      "Requirement already satisfied: prometheus-client in c:\\users\\nvs690\\miniconda3\\envs\\nlp\\lib\\site-packages (from notebook>=4.4.1->widgetsnbextension~=3.6.0->ipywidgets>=7.0.0->pydeck>=0.1.dev5->streamlit->simpletransformers) (0.14.1)\n",
      "Requirement already satisfied: Send2Trash>=1.8.0 in c:\\users\\nvs690\\miniconda3\\envs\\nlp\\lib\\site-packages (from notebook>=4.4.1->widgetsnbextension~=3.6.0->ipywidgets>=7.0.0->pydeck>=0.1.dev5->streamlit->simpletransformers) (1.8.0)\n",
      "Requirement already satisfied: testpath in c:\\users\\nvs690\\miniconda3\\envs\\nlp\\lib\\site-packages (from nbconvert>=5->notebook>=4.4.1->widgetsnbextension~=3.6.0->ipywidgets>=7.0.0->pydeck>=0.1.dev5->streamlit->simpletransformers) (0.6.0)\n",
      "Requirement already satisfied: pandocfilters>=1.4.1 in c:\\users\\nvs690\\miniconda3\\envs\\nlp\\lib\\site-packages (from nbconvert>=5->notebook>=4.4.1->widgetsnbextension~=3.6.0->ipywidgets>=7.0.0->pydeck>=0.1.dev5->streamlit->simpletransformers) (1.5.0)\n",
      "Requirement already satisfied: nbclient<0.6.0,>=0.5.0 in c:\\users\\nvs690\\miniconda3\\envs\\nlp\\lib\\site-packages (from nbconvert>=5->notebook>=4.4.1->widgetsnbextension~=3.6.0->ipywidgets>=7.0.0->pydeck>=0.1.dev5->streamlit->simpletransformers) (0.5.13)\n",
      "Requirement already satisfied: bleach in c:\\users\\nvs690\\miniconda3\\envs\\nlp\\lib\\site-packages (from nbconvert>=5->notebook>=4.4.1->widgetsnbextension~=3.6.0->ipywidgets>=7.0.0->pydeck>=0.1.dev5->streamlit->simpletransformers) (4.1.0)\n",
      "Requirement already satisfied: mistune<2,>=0.8.1 in c:\\users\\nvs690\\miniconda3\\envs\\nlp\\lib\\site-packages (from nbconvert>=5->notebook>=4.4.1->widgetsnbextension~=3.6.0->ipywidgets>=7.0.0->pydeck>=0.1.dev5->streamlit->simpletransformers) (0.8.4)\n",
      "Requirement already satisfied: jupyterlab-pygments in c:\\users\\nvs690\\miniconda3\\envs\\nlp\\lib\\site-packages (from nbconvert>=5->notebook>=4.4.1->widgetsnbextension~=3.6.0->ipywidgets>=7.0.0->pydeck>=0.1.dev5->streamlit->simpletransformers) (0.1.2)\n",
      "Requirement already satisfied: defusedxml in c:\\users\\nvs690\\miniconda3\\envs\\nlp\\lib\\site-packages (from nbconvert>=5->notebook>=4.4.1->widgetsnbextension~=3.6.0->ipywidgets>=7.0.0->pydeck>=0.1.dev5->streamlit->simpletransformers) (0.7.1)\n",
      "Requirement already satisfied: beautifulsoup4 in c:\\users\\nvs690\\miniconda3\\envs\\nlp\\lib\\site-packages (from nbconvert>=5->notebook>=4.4.1->widgetsnbextension~=3.6.0->ipywidgets>=7.0.0->pydeck>=0.1.dev5->streamlit->simpletransformers) (4.10.0)\n",
      "Requirement already satisfied: pywinpty>=1.1.0 in c:\\users\\nvs690\\miniconda3\\envs\\nlp\\lib\\site-packages (from terminado>=0.8.3->notebook>=4.4.1->widgetsnbextension~=3.6.0->ipywidgets>=7.0.0->pydeck>=0.1.dev5->streamlit->simpletransformers) (2.0.5)\n",
      "Requirement already satisfied: argon2-cffi-bindings in c:\\users\\nvs690\\miniconda3\\envs\\nlp\\lib\\site-packages (from argon2-cffi->notebook>=4.4.1->widgetsnbextension~=3.6.0->ipywidgets>=7.0.0->pydeck>=0.1.dev5->streamlit->simpletransformers) (21.2.0)\n",
      "Requirement already satisfied: cffi>=1.0.1 in c:\\users\\nvs690\\miniconda3\\envs\\nlp\\lib\\site-packages (from argon2-cffi-bindings->argon2-cffi->notebook>=4.4.1->widgetsnbextension~=3.6.0->ipywidgets>=7.0.0->pydeck>=0.1.dev5->streamlit->simpletransformers) (1.15.0)\n",
      "Requirement already satisfied: pycparser in c:\\users\\nvs690\\miniconda3\\envs\\nlp\\lib\\site-packages (from cffi>=1.0.1->argon2-cffi-bindings->argon2-cffi->notebook>=4.4.1->widgetsnbextension~=3.6.0->ipywidgets>=7.0.0->pydeck>=0.1.dev5->streamlit->simpletransformers) (2.21)\n",
      "Requirement already satisfied: soupsieve>1.2 in c:\\users\\nvs690\\miniconda3\\envs\\nlp\\lib\\site-packages (from beautifulsoup4->nbconvert>=5->notebook>=4.4.1->widgetsnbextension~=3.6.0->ipywidgets>=7.0.0->pydeck>=0.1.dev5->streamlit->simpletransformers) (2.3.2)\n",
      "Requirement already satisfied: webencodings in c:\\users\\nvs690\\miniconda3\\envs\\nlp\\lib\\site-packages (from bleach->nbconvert>=5->notebook>=4.4.1->widgetsnbextension~=3.6.0->ipywidgets>=7.0.0->pydeck>=0.1.dev5->streamlit->simpletransformers) (0.5.1)\n",
      "Requirement already satisfied: markdown>=2.6.8 in c:\\users\\nvs690\\miniconda3\\envs\\nlp\\lib\\site-packages (from tensorboard->simpletransformers) (3.3.6)\n",
      "Requirement already satisfied: google-auth<3,>=1.6.3 in c:\\users\\nvs690\\miniconda3\\envs\\nlp\\lib\\site-packages (from tensorboard->simpletransformers) (2.6.6)\n",
      "Requirement already satisfied: grpcio>=1.24.3 in c:\\users\\nvs690\\miniconda3\\envs\\nlp\\lib\\site-packages (from tensorboard->simpletransformers) (1.44.0)\n",
      "Requirement already satisfied: werkzeug>=1.0.1 in c:\\users\\nvs690\\miniconda3\\envs\\nlp\\lib\\site-packages (from tensorboard->simpletransformers) (2.1.2)\n",
      "Requirement already satisfied: absl-py>=0.4 in c:\\users\\nvs690\\miniconda3\\envs\\nlp\\lib\\site-packages (from tensorboard->simpletransformers) (1.0.0)\n",
      "Requirement already satisfied: tensorboard-data-server<0.7.0,>=0.6.0 in c:\\users\\nvs690\\miniconda3\\envs\\nlp\\lib\\site-packages (from tensorboard->simpletransformers) (0.6.1)\n",
      "Requirement already satisfied: google-auth-oauthlib<0.5,>=0.4.1 in c:\\users\\nvs690\\miniconda3\\envs\\nlp\\lib\\site-packages (from tensorboard->simpletransformers) (0.4.6)\n",
      "Requirement already satisfied: wheel>=0.26 in c:\\users\\nvs690\\miniconda3\\envs\\nlp\\lib\\site-packages (from tensorboard->simpletransformers) (0.37.1)\n",
      "Requirement already satisfied: tensorboard-plugin-wit>=1.6.0 in c:\\users\\nvs690\\miniconda3\\envs\\nlp\\lib\\site-packages (from tensorboard->simpletransformers) (1.8.1)\n",
      "Requirement already satisfied: pyasn1-modules>=0.2.1 in c:\\users\\nvs690\\miniconda3\\envs\\nlp\\lib\\site-packages (from google-auth<3,>=1.6.3->tensorboard->simpletransformers) (0.2.8)\n",
      "Requirement already satisfied: rsa<5,>=3.1.4 in c:\\users\\nvs690\\miniconda3\\envs\\nlp\\lib\\site-packages (from google-auth<3,>=1.6.3->tensorboard->simpletransformers) (4.8)\n",
      "Requirement already satisfied: requests-oauthlib>=0.7.0 in c:\\users\\nvs690\\miniconda3\\envs\\nlp\\lib\\site-packages (from google-auth-oauthlib<0.5,>=0.4.1->tensorboard->simpletransformers) (1.3.1)\n",
      "Requirement already satisfied: pyasn1<0.5.0,>=0.4.6 in c:\\users\\nvs690\\miniconda3\\envs\\nlp\\lib\\site-packages (from pyasn1-modules>=0.2.1->google-auth<3,>=1.6.3->tensorboard->simpletransformers) (0.4.8)\n",
      "Requirement already satisfied: oauthlib>=3.0.0 in c:\\users\\nvs690\\miniconda3\\envs\\nlp\\lib\\site-packages (from requests-oauthlib>=0.7.0->google-auth-oauthlib<0.5,>=0.4.1->tensorboard->simpletransformers) (3.2.0)\n",
      "Requirement already satisfied: backports.zoneinfo in c:\\users\\nvs690\\miniconda3\\envs\\nlp\\lib\\site-packages (from tzlocal->streamlit->simpletransformers) (0.2.1)\n",
      "Requirement already satisfied: pytz-deprecation-shim in c:\\users\\nvs690\\miniconda3\\envs\\nlp\\lib\\site-packages (from tzlocal->streamlit->simpletransformers) (0.1.0.post0)\n",
      "Requirement already satisfied: tzdata in c:\\users\\nvs690\\miniconda3\\envs\\nlp\\lib\\site-packages (from tzlocal->streamlit->simpletransformers) (2022.1)\n"
     ]
    }
   ],
   "source": [
    "# ! pip install checklist\n",
    "# ! pip install nltk\n",
    "# ! pip install pandas\n",
    "# ! pip install simpletransformers"
   ]
  },
  {
   "cell_type": "code",
   "execution_count": 1,
   "metadata": {},
   "outputs": [],
   "source": [
    "import nltk\n",
    "import spacy\n",
    "# nltk.download('omw-1.4')"
   ]
  },
  {
   "cell_type": "code",
   "execution_count": 2,
   "metadata": {},
   "outputs": [],
   "source": [
    "import checklist\n",
    "from checklist.editor import Editor\n",
    "from checklist.perturb import Perturb\n",
    "\n",
    "import pandas as pd\n",
    "import numpy as np\n",
    "from simpletransformers.classification import ClassificationModel\n",
    "\n",
    "np.random.seed(42)\n",
    "\n",
    "editor = Editor()"
   ]
  },
  {
   "cell_type": "code",
   "execution_count": 3,
   "metadata": {},
   "outputs": [],
   "source": [
    "#load local model\n",
    "model = ClassificationModel(\"bert\", \"outputs\", use_cuda = False)\n"
   ]
  },
  {
   "cell_type": "code",
   "execution_count": 4,
   "metadata": {},
   "outputs": [
    {
     "data": {
      "text/html": [
       "<div>\n",
       "<style scoped>\n",
       "    .dataframe tbody tr th:only-of-type {\n",
       "        vertical-align: middle;\n",
       "    }\n",
       "\n",
       "    .dataframe tbody tr th {\n",
       "        vertical-align: top;\n",
       "    }\n",
       "\n",
       "    .dataframe thead th {\n",
       "        text-align: right;\n",
       "    }\n",
       "</style>\n",
       "<table border=\"1\" class=\"dataframe\">\n",
       "  <thead>\n",
       "    <tr style=\"text-align: right;\">\n",
       "      <th></th>\n",
       "      <th>text</th>\n",
       "      <th>labels</th>\n",
       "    </tr>\n",
       "    <tr>\n",
       "      <th>id</th>\n",
       "      <th></th>\n",
       "      <th></th>\n",
       "    </tr>\n",
       "  </thead>\n",
       "  <tbody>\n",
       "    <tr>\n",
       "      <th>89200</th>\n",
       "      <td>@USER @USER Who the hell does he think he is?</td>\n",
       "      <td>1</td>\n",
       "    </tr>\n",
       "    <tr>\n",
       "      <th>71294</th>\n",
       "      <td>#BREAKING. #Greece: Molotov cocktails fly afte...</td>\n",
       "      <td>1</td>\n",
       "    </tr>\n",
       "    <tr>\n",
       "      <th>55633</th>\n",
       "      <td>#OrrinHatch I can’t believe this sexist , clue...</td>\n",
       "      <td>1</td>\n",
       "    </tr>\n",
       "    <tr>\n",
       "      <th>16856</th>\n",
       "      <td>@USER @USER I'll use that one the next time im...</td>\n",
       "      <td>1</td>\n",
       "    </tr>\n",
       "    <tr>\n",
       "      <th>26072</th>\n",
       "      <td>0-1 lost my acca on the first fucking fight cba</td>\n",
       "      <td>1</td>\n",
       "    </tr>\n",
       "    <tr>\n",
       "      <th>...</th>\n",
       "      <td>...</td>\n",
       "      <td>...</td>\n",
       "    </tr>\n",
       "    <tr>\n",
       "      <th>80020</th>\n",
       "      <td>#Repost @USER ・・・ We can’t forget to give prop...</td>\n",
       "      <td>0</td>\n",
       "    </tr>\n",
       "    <tr>\n",
       "      <th>45518</th>\n",
       "      <td>@USER He is obviously getting suspended. He is...</td>\n",
       "      <td>0</td>\n",
       "    </tr>\n",
       "    <tr>\n",
       "      <th>51610</th>\n",
       "      <td>#Canada - EXCLUSIVE: #Trudeau #Liberals leave ...</td>\n",
       "      <td>0</td>\n",
       "    </tr>\n",
       "    <tr>\n",
       "      <th>26758</th>\n",
       "      <td>@USER @USER ...than why did you show us how ho...</td>\n",
       "      <td>0</td>\n",
       "    </tr>\n",
       "    <tr>\n",
       "      <th>30718</th>\n",
       "      <td>@USER @USER @USER You have yet to answer what ...</td>\n",
       "      <td>0</td>\n",
       "    </tr>\n",
       "  </tbody>\n",
       "</table>\n",
       "<p>99 rows × 2 columns</p>\n",
       "</div>"
      ],
      "text/plain": [
       "                                                    text  labels\n",
       "id                                                              \n",
       "89200      @USER @USER Who the hell does he think he is?       1\n",
       "71294  #BREAKING. #Greece: Molotov cocktails fly afte...       1\n",
       "55633  #OrrinHatch I can’t believe this sexist , clue...       1\n",
       "16856  @USER @USER I'll use that one the next time im...       1\n",
       "26072    0-1 lost my acca on the first fucking fight cba       1\n",
       "...                                                  ...     ...\n",
       "80020  #Repost @USER ・・・ We can’t forget to give prop...       0\n",
       "45518  @USER He is obviously getting suspended. He is...       0\n",
       "51610  #Canada - EXCLUSIVE: #Trudeau #Liberals leave ...       0\n",
       "26758  @USER @USER ...than why did you show us how ho...       0\n",
       "30718  @USER @USER @USER You have yet to answer what ...       0\n",
       "\n",
       "[99 rows x 2 columns]"
      ]
     },
     "execution_count": 4,
     "metadata": {},
     "output_type": "execute_result"
    }
   ],
   "source": [
    "#load subset\n",
    "subset = pd.read_csv(\"data\\olid-subset-diagnostic-tests.csv\", index_col = 0)\n",
    "subset"
   ]
  },
  {
   "cell_type": "code",
   "execution_count": 5,
   "metadata": {},
   "outputs": [],
   "source": [
    "#need spacy model\n",
    "nlp = spacy.load('en_core_web_sm')"
   ]
  },
  {
   "cell_type": "code",
   "execution_count": 6,
   "metadata": {},
   "outputs": [
    {
     "data": {
      "text/plain": [
       "[@USER @USER Who the hell does he think he is?,\n",
       " #BREAKING. #Greece: Molotov cocktails fly after protest honouring killed antifa arti... URL via @USER URL,\n",
       " #OrrinHatch I can’t believe this sexist , clueless, old fart gets to weigh in on another woman’s charges against a Supreme Court nominee. And he is spouting the same old nasty shit he spewed 20+ years ago against Anita Hill. His time’s up! Good riddance Neanderthal!,\n",
       " @USER @USER I'll use that one the next time im in a gun control debate or in a debate about free speech or taxes. Yes you can choose to be irresponsible or choose not to be. I argue responsible. Whats wrong with that? Don't justify murder by saying it was never alive or its my right.,\n",
       " 0-1 lost my acca on the first fucking fight cba,\n",
       " #Bakersfield is why we need gun control! Sorry for the victims other than the gunman himself I hope he rots in hell!,\n",
       " #Christian #America – If we go by #Trump’s example, where liberals support open borders, I guess conservatives support school shootings.   Please explain how this makes America great again.,\n",
       " @USER @USER @USER She is the most disingenuous person in the Senate. If she was my Senator I would hide in shame after her despicable behavior in the SCOTUS hearings.,\n",
       " #Democrats #Liberals you are being #threatened by #Armed #Nazis and you talk about #disarmament of yourselves and of #Disconnection from the #Military #Lifestyle ?  You should #broadcast your #Armory and #killSkills #RightFuckingNOW URL,\n",
       " 699. Just wanted to tell you you should Hang Out With Me More. i think it’ll be fun! Also, lmao dick for a tongue? So people can easily suck me off. HAHA kidding aside, i aint want a tongue as my dick that looks hella weird.. but my choice was weird to but WHATEVER,\n",
       " #LiberalHypocrisy #criminal #democrat #evidence #ellison #liberals #Hypocrites Keith Ellison domestic violence accuser says Democratic party doesn't believe her story  URL,\n",
       " (cr1tikal voice) smef my ass cheeks,\n",
       " *gets all the bitches*,\n",
       " #Antifa: Take note of how to protest with civility.   This is why socialism (aka communism) will never win. It is inherently evil and unsustainable. URL,\n",
       " @USER omg is he for real ?!?!!??????) this happened in peru like 40 years ago and the Inti devaluated so fucking much that they had to comoletely change the coin system because our money was worthless i-,\n",
       " #Conservatism101   It's not about our disagreements with #Conservatives. Its that Conservatives can't debate honestly, and they have no integrity. Whatever gets them thru today, is all that matters to them. They're fundamentally dishonest people. URL,\n",
       " @USER oh fuck off 😂😂,\n",
       " #Emmys  Well, most of those ex-crackheads are liberals and Democrats; so ...,\n",
       " #BCOG @USER she is cool, confident, cocky, and she kicks ass!!! @USER @USER @USER URL,\n",
       " And apparently I'm committed to going to a new level since I used the key.  Well FUCK.  Curiosity killed the Cat(hy),\n",
       " #Nigeria #Naija #9ja 'You are the most incompetent leader in Nigeria’s history' – Atiku blasts Buhari URL By championnewsng Via URL,\n",
       " @USER @USER @USER @USER Then why aren’t there so many shootings in Virginia?  Jacksonville shooter got his guns IN MARYLAND!! Among the poster children for gun control!  What good did that do?!  You’re full of crap.,\n",
       " @USER 'cause everyone knows a real leader falls into a van like a sack of potatoes.....,\n",
       " #BoycottNike campaign must continue and grow  Paying overseas staff $0.20 an hour is not okay because your staff is over there\".   You are exploiting poor women/men in the world.  This is more than Americans can stand. URL,\n",
       " #ANTIFA are bedfellows with The Democratic Socialists of America (DSA) who #JamesOKeefe has exposed as being inserted throughout government, attempting to bring down #America  #Trump #MAGA🇺🇸 #DeepState  URL,\n",
       " #LifeIsButepu when you have sex anytime you want but you are single,\n",
       " @USER Antifa has TS level influence. It's scary.,\n",
       " @USER I have three accounts. Two quasi-anonymous, and one completely anon. And if twitter ever bans one of the quasi-anon, I'll make two anon accounts and tweet the most insane shit. I will drown twitter in bullshit. If one of those is banned, I'll make even more.,\n",
       " #Feinstein you cant say anything truthful.  You are a loers and liar. URL,\n",
       " #Kavanaugh The moment #BlaseyFord is exposed as a fraud, expect a new accuser to surface. Liberals are a one trick pony. #LiberalismIsAMentalDisorder,\n",
       " @USER @USER @USER @USER Beats the hell NJ out of me lol. Dude already made the assumption that I'm antifa. He even ignored all the evidence to make that assumption.,\n",
       " #ConfirmKavanugh now, stall tactics are DC cronies only recourse. No more delays.  #VoteRed to end this madness and to #MAGA,\n",
       " #ArianaAsesina? Is that serious?! Holy shit, please your fucking assholes, don't blame someone for the death of other one. She is sad enough for today, don't you see? It isn't fault of none, he had an overdose and died. End. Stop wanting someone to blame, fuckers.,\n",
       " @USER How is she hiding her ugly personality. She is the worst.,\n",
       " $10 Million reallocated from FEMA to ICE. This guy gives zero shits about anyone not named Trump. If you’re in the mid Atlantic, get out. Now. URL,\n",
       " #Cuckservative Traitors Are Worse Than Fortnite Players URL #Conservatives #TriggerWarningRadio,\n",
       " #Conservatives Govt ' @USER made my life hell': whistleblowers say they were threatened by regulator; I thought this Govt promised to protect whistleblowers?  URL,\n",
       " #FortniteBattleRoyale #XboxShare @USER   Please ban this cheating scum.  he is literally invisible URL,\n",
       " All these sick ass ppl from school gave me something and now I have to chug down this nasty drink so it can go away🙃,\n",
       " #NEWS Jeff Sessions: If you want more death, 'listen to the ACLU, Antifa, Black Lives Matter'\" URL #CNBC\",\n",
       " #JoeScarborough is a vile excuse for a journalist\". Here he is criticizing #Trump yet refuses to come clean about the death of an intern in his office. Stop talking about everyone else and start talking about YOUR INVOLVEMENT WITH #LORIKLAUSUTIS. @USER,\n",
       " $1500 for a phone. You all are fucking dumb.,\n",
       " #MSNBC #Hardball @USER Bingo you are absolutely correct he cannot bring President Obama down. He can’t get over how President Obama humiliated him at the White House correspondents dinner and I can guarantee you that is a definite driver of his hate for President Obama,\n",
       " #crazyredhead in very #angry at the #orange #cheeto  Who claims to be our #president .  She will never accept it.  Denying all the lives lost in Puerto Rico? He is a #monster #… URL,\n",
       " #SesameStreet #BertandErnie the conversation about this is so unattractive. The creator says he didn't create a character gay and he is being attacked.,\n",
       " @USER I BET she is a lot safer when she has sex now tho ? Or she wouldn’t have just one but a few kids . Why cant moms get dicked down too ?,\n",
       " #FemiNazis are Liberals so #MeToo only counts when they blame a non-Liberal man. #Bizarro  #KAG2018 ❤️🇺🇸 URL,\n",
       " Amazon will ship live Christmas trees to your door — but will they stay and put on the damn lights? URL,\n",
       " . JEFF SESSIONS: ‘LISTEN TO THE ACLU, ANTIFA, BLACK LIVES MATTER’ IF YOU WANT MORE CHICAGO SHOOTINGS  . URL,\n",
       " #SerenaWilliams is so full of herself...she is just as painful to watch as to listen to...,\n",
       " #BecauseOfTories we have the lowest youth unemployment since records began 👏🏼  URL,\n",
       " #MAGA #Kavanaugh #DrainTheDeepState @USER   I'd like to see @USER interviewed again. In his book ALL OUT WAR he laid out a lot that is happening today. ✓DC Secret Resistance Society ✓ANTIFA ✓ A White House meeting. Be interesting to hear him 2 yrs after Bk. URL,\n",
       " #SandraOh is dressed like the queen she is tonight! We salute you, you Canadian Goddess! Let's hope you win for #KillingEve. #EmmyAwards URL,\n",
       " @USER WWE considers Raw the bigger show and having Ronda later in the PPV shows she is a bigger nane,\n",
       " #StayOnYourPath #HealthQuote If you are wishing to loose fat, get back your wellbeing and slow down or reverse the aging process then check this super powerful natural method URL URL,\n",
       " #SomethingIsAboutToHappen And here goes his bottle on the floor, with water dripping from it.  She just snapped as he was trying to cool her down. She is pissed at something for sure.  Stay tuned.,\n",
       " #FakeNews like @USER and @USER will gloss over this today thanks to the #ChristineBlaseyFord circus act. #ConfirmJudgeKavanaughNow so we can get back to triggering liberals by talking about @USER ‘s success. 🙌🏻 URL,\n",
       " #Capitalism may be undermined by the displacement of menial laborers by #AI   should conservatives therefore inoculate themselves against knee-jerk reactionism against the notion of the living wage\"?  #economics #marxism #marx #robotics #communism #socialism #socialismkills\",\n",
       " #California Tries New Tack on #Gun #Violence : #Bullet #control - The New York Times #activist ⁦@USER ⁦@USER ⁦@USER ⁦@USER ⁦@USER  URL,\n",
       " #eminem he could've gone harder but he didn't have to reason  why he is the RapGod he is one of the best lyricist in the game. Lot of people talk smack about him because they will never be him.  @USER URL,\n",
       " #CTRiders Hope you are enjoying your Friday! If you're looking for a way to enjoy this nice weather this weekend, September is #ReadANewBookMonth and there is nothing like reading a new book on a patio with a nice cup of coffee :) Anyone ready anything interesting this month? URL,\n",
       " 1) Wow, safe sex! That's hot! We love a butch top who also receives! URL,\n",
       " ...ANTIFA men\" get themselves riled up before a big Anti Trump rally by playing the theme song from the Wonder Woman movie on repeat. Or was it Power ⚡️Rangers?! 🤔 URL,\n",
       " #BrettKavanaugh   ... but anyway, there is the matter of a replacement for Justice Kennedy here, but the bigger one is of conservatives fortifying the SCOTUS majority for decades to come against libs who are no longer hiding desire to directly attack the Bill of Rights....,\n",
       " #TEAM4THEBEEZ PLEASE SHARE THIS PUP DID NOTHING EXCEPT HIS OWNER DIED AND HE WAS #DUMPED2DIE AT SHELTER HE IS IN GRIEF FOR HIS OWNER AND TERRIFIED IN NOISY SHELTER PLEASE #NOKILLSHELTERNATION IS WHAT WE NEED BUT LETS FIND THIS POOR PUP A #HEROES2ANIMALS URL,\n",
       " #MeetTheSpeakers 🙌 @USER will present in our event OIW 2018: Finpact - Global Impact through Financial Technologies. She is Senior Advisor Group Sustainable Finance and worked on green energy and climate risk. Join us to meet Thina URL #oiw2018 URL,\n",
       " #WednesdayWisdom Antifa calls the right fascist when, in all reality, they and the left are following the same scenario as the Third Reich: indoctrination of our youth, trying to control minorities and a total lack of understanding or knowledge of history.  #WalkAway,\n",
       " @USER u put a privileged NFL player in ur ad for 30th anniv that has sacrificed nothing he is still rich &amp;  has his life. Tom Burnett a passenger on doom flight 93 told his wife WE CAN DO IT. He &amp; others sacrificed everything! Gave their life to save others! That is everything,\n",
       " ? Tickets for #htafc's away match against #WatfordFC will go on sale to supporters with 270+ Priority Points on Monday 2… URL,\n",
       " #ARSYoungjaeDay HAPPY BIRTHDAY CHOI YOUNGJAE 😭😭😭 with vocals of a god and a contagious laughter, he is the most beautiful man!!! i could never feel sad whenever i see an img of him or just a snippet of him in a video, he always brightens my day. the last img is me when i saw URL,\n",
       " @USER Gun control takes guns out of law abiding citizens that’s it,\n",
       " #antifa #Resist.. Trump is trying to bring world peace, not obstruct like the democrats..  is this good for you also? or haters gonna hate? URL,\n",
       " @USER @USER She is an advocate and model for natural beauty.,\n",
       " #MAGA #KavanaughConfirmationHearings postponing votes WELL LETS DO THE SAME OPEN THE HUSH FUND BOOKS NOW URL,\n",
       " #TickTock If she is not formally charged for mishandling sensitive material we will have no choice but to release proof that she is guilty of high treason against the United States for selling patented military secrets to the Saudi Arabian government. URL,\n",
       " #BacktheBlue.  Jeff Sessions: ‘Listen To The ACLU, Antifa, Black Lives Matter’ If You Want More Chicago Shootings URL via @USER,\n",
       " #TipOfTheDay If you are giving #coffee as a gift / part of a gift, make sure to ask for an airtight container or valve-sealed bag. The tin-ties are cute but won't preserve the coffee past a week.  Join our mailing list for more tips, facts, and coffee news URL URL,\n",
       " #Arizona #Tennessee  #Alaska #SC  As soon as these RINOS (aka liberals) are up for reelection vote them out!   #DrainTheSwamp 💥 URL,\n",
       " #Affirmativeaction to #Affirmativehate. #Altleft wants Law prof fired for pointing out poor performance of unqualified admits. URL #tcot #Conservatives #Law #Lawyers #Lawdean #LawProf #UPenn #AltLeft #Highered #ABA #HigherEducation #AcademicTwitter,\n",
       " #LisaxMichaelKors  she is soo beautifull,\n",
       " #CollegeFootball  2021 6'7 285 DT/OL Gallatin, TN URL \"just turned 15 yrs old Aug 1st 2018\" \"Above average movement\" \"He is a Dog\" #SEC #PAC12 #BIG12 #BIG10 URL,\n",
       " @USER @USER Then we agree. Common ground.  And I don't like the Bushes.  Particularly HW.  URL,\n",
       " .@USER ‘Listen To The #ACLU, #Antifa, #BlackLivesMatter’ If You Want More Chicago Shootings URL via @USER  #Sessions,\n",
       " @USER I guess that’s where swamp ass originated,\n",
       " #FeelsGoodGirl @USER @USER  you should be proud at her she is amazing in gambit URL,\n",
       " @USER @USER @USER @USER Go with @USER Jeans. I've been wearing Wranglers over 25 yrs now. Ever since I found Levis contributed  heavily to Gun Control Groups &amp; Gun Grabbing Politicians back in the 1990s.,\n",
       " @USER #MAGA who cares about the farm.  He had no reason to commit murder. End of story.,\n",
       " #SundayShoutOuts to @USER because.... Because she is amazing and has my boundless support and endless appreciation for her support in return, it's just a loop of love and respect… URL,\n",
       " #2A. The stuff some of these people say amazes me. They do not get we already have gun control. Take a look at what happens to all the people arrested on gun charges each weekend in Chicago. Most of them are given a slap on the wrist. #NRA URL,\n",
       " #Conservatives are always revolting URL,\n",
       " @USER He is off the deep end. This calls for an intervention,\n",
       " $500 Million Funding Competition for US cities That’s nice. ⁦@USER  URL,\n",
       " #CarolineForbes You are needed to help with the posted SL. DM me to Audition.,\n",
       " @USER She Is A ChiCom Spy..... #ClubGITMO,\n",
       " #Repost @USER ・・・ We can’t forget to give props to Naomi Osaka!! 🏆🎾 She played against her idol and won. In someways the win has been overshadowed, but she is so humbled in her… URL,\n",
       " @USER He is obviously getting suspended. He is not an asset for anyone,\n",
       " #Canada - EXCLUSIVE: #Trudeau #Liberals leave $372M meant to help veterans unspent since taking office URL,\n",
       " @USER @USER ...than why did you show us how hot she is ?,\n",
       " @USER @USER @USER You have yet to answer what *realistically enforceable* gun control law would *prevent* the tragedies without violating Due Process and HIPAA...,\n",
       " #MAGA  ... got any ideas how she could have done it? URL]"
      ]
     },
     "execution_count": 6,
     "metadata": {},
     "output_type": "execute_result"
    }
   ],
   "source": [
    "#convert instances to list, then to spacy DOC tokens\n",
    "data = subset[\"text\"].tolist()\n",
    "pdataset = list(nlp.pipe(data))\n",
    "pdataset\n"
   ]
  },
  {
   "cell_type": "code",
   "execution_count": 55,
   "metadata": {},
   "outputs": [],
   "source": [
    "#add negation to sentences\n",
    "ret = Perturb.perturb(pdataset, Perturb.add_negation, keep_original=True)"
   ]
  },
  {
   "cell_type": "code",
   "execution_count": 56,
   "metadata": {},
   "outputs": [
    {
     "data": {
      "text/plain": [
       "[['@USER @USER Who the hell does he think he is?',\n",
       "  \"@USER @USER Who the hell doesn't he think he is?\"],\n",
       " ['#BREAKING. #Greece: Molotov cocktails fly after protest honouring killed antifa arti... URL via @USER URL',\n",
       "  \"#BREAKING. #Greece: Molotov cocktails don't fly after protest honouring killed antifa arti... URL via @USER URL\"],\n",
       " ['#OrrinHatch I can’t believe this sexist , clueless, old fart gets to weigh in on another woman’s charges against a Supreme Court nominee. And he is spouting the same old nasty shit he spewed 20+ years ago against Anita Hill. His time’s up! Good riddance Neanderthal!',\n",
       "  '#OrrinHatch I can’t believe this sexist , clueless, old fart gets to weigh in on another woman’s charges against a Supreme Court nominee. And he is not spouting the same old nasty shit he spewed 20+ years ago against Anita Hill. His time’s up! Good riddance Neanderthal!'],\n",
       " [\"@USER @USER I'll use that one the next time im in a gun control debate or in a debate about free speech or taxes. Yes you can choose to be irresponsible or choose not to be. I argue responsible. Whats wrong with that? Don't justify murder by saying it was never alive or its my right.\",\n",
       "  \"@USER @USER I'll use that one the next time im in a gun control debate or in a debate about free speech or taxes. Yes you can't choose to be irresponsible or choose not to be. I argue responsible. Whats wrong with that? Don't justify murder by saying it was never alive or its my right.\"],\n",
       " ['0-1 lost my acca on the first fucking fight cba',\n",
       "  \"0-1 didn't lose my acca on the first fucking fight cba\"],\n",
       " ['#Bakersfield is why we need gun control! Sorry for the victims other than the gunman himself I hope he rots in hell!',\n",
       "  '#Bakersfield is not why we need gun control! Sorry for the victims other than the gunman himself I hope he rots in hell!'],\n",
       " ['#Christian #America – If we go by #Trump’s example, where liberals support open borders, I guess conservatives support school shootings.   Please explain how this makes America great again.',\n",
       "  \"#Christian #America – If we go by #Trump’s example, where liberals support open borders, I don't guess conservatives support school shootings.   Please explain how this makes America great again.\"],\n",
       " ['@USER @USER @USER She is the most disingenuous person in the Senate. If she was my Senator I would hide in shame after her despicable behavior in the SCOTUS hearings.',\n",
       "  '@USER @USER @USER She is not the most disingenuous person in the Senate. If she was my Senator I would hide in shame after her despicable behavior in the SCOTUS hearings.'],\n",
       " ['#Democrats #Liberals you are being #threatened by #Armed #Nazis and you talk about #disarmament of yourselves and of #Disconnection from the #Military #Lifestyle ?  You should #broadcast your #Armory and #killSkills #RightFuckingNOW URL',\n",
       "  \"#Democrats #Liberals you are being #threatened by #Armed #Nazis and you talk about #disarmament of yourselves and of #Disconnection from the #Military #Lifestyle ?  You shouldn't #broadcast your #Armory and #killSkills #RightFuckingNOW URL\"],\n",
       " ['699. Just wanted to tell you you should Hang Out With Me More. i think it’ll be fun! Also, lmao dick for a tongue? So people can easily suck me off. HAHA kidding aside, i aint want a tongue as my dick that looks hella weird.. but my choice was weird to but WHATEVER',\n",
       "  \"699. Just didn't want to tell you you should Hang Out With Me More. i think it’ll be fun! Also, lmao dick for a tongue? So people can easily suck me off. HAHA kidding aside, i aint want a tongue as my dick that looks hella weird.. but my choice was weird to but WHATEVER\"]]"
      ]
     },
     "execution_count": 56,
     "metadata": {},
     "output_type": "execute_result"
    }
   ],
   "source": [
    "#question 2 & 3: look at first 10 examples\n",
    "ret.data[:10]"
   ]
  },
  {
   "cell_type": "code",
   "execution_count": 16,
   "metadata": {},
   "outputs": [
    {
     "data": {
      "application/vnd.jupyter.widget-view+json": {
       "model_id": "38d9e9cd16294c9cac6868ac4e90104d",
       "version_major": 2,
       "version_minor": 0
      },
      "text/plain": [
       "  0%|          | 0/1 [00:00<?, ?it/s]"
      ]
     },
     "metadata": {},
     "output_type": "display_data"
    },
    {
     "data": {
      "application/vnd.jupyter.widget-view+json": {
       "model_id": "e5182f2f904f481b86838a7448aaa8ee",
       "version_major": 2,
       "version_minor": 0
      },
      "text/plain": [
       "  0%|          | 0/1 [00:00<?, ?it/s]"
      ]
     },
     "metadata": {},
     "output_type": "display_data"
    },
    {
     "data": {
      "application/vnd.jupyter.widget-view+json": {
       "model_id": "698d65b47359488381fde8765efa29eb",
       "version_major": 2,
       "version_minor": 0
      },
      "text/plain": [
       "  0%|          | 0/1 [00:00<?, ?it/s]"
      ]
     },
     "metadata": {},
     "output_type": "display_data"
    },
    {
     "data": {
      "application/vnd.jupyter.widget-view+json": {
       "model_id": "fc168e5d34514ec1a61c9c6c3de8398c",
       "version_major": 2,
       "version_minor": 0
      },
      "text/plain": [
       "  0%|          | 0/1 [00:00<?, ?it/s]"
      ]
     },
     "metadata": {},
     "output_type": "display_data"
    }
   ],
   "source": [
    "pred_orig = model.predict([ret.data[0][0]])\n",
    "pred_perturb = model.predict([ret.data[0][1]])"
   ]
  },
  {
   "cell_type": "code",
   "execution_count": 57,
   "metadata": {},
   "outputs": [
    {
     "name": "stdout",
     "output_type": "stream",
     "text": [
      "@USER @USER Who the hell does he think he is?\n",
      "original data: ([1], array([[-3.064749  ,  2.16581225]]))\n",
      "perturbed data: ([1], array([[-3.01825523,  2.13671899]]))\n"
     ]
    },
    {
     "data": {
      "text/plain": [
       "95"
      ]
     },
     "execution_count": 57,
     "metadata": {},
     "output_type": "execute_result"
    }
   ],
   "source": [
    "print(ret.data[0][0])\n",
    "print(f'original data: {pred_orig}')\n",
    "print(f'perturbed data: {pred_perturb}')\n",
    "len(ret.data)"
   ]
  },
  {
   "cell_type": "code",
   "execution_count": 33,
   "metadata": {},
   "outputs": [
    {
     "data": {
      "application/vnd.jupyter.widget-view+json": {
       "model_id": "5fd785a03046455a94f890730b5f122f",
       "version_major": 2,
       "version_minor": 0
      },
      "text/plain": [
       "  0%|          | 0/95 [00:00<?, ?it/s]"
      ]
     },
     "metadata": {},
     "output_type": "display_data"
    },
    {
     "data": {
      "application/vnd.jupyter.widget-view+json": {
       "model_id": "4bec010accf2401595d2eddf8967b601",
       "version_major": 2,
       "version_minor": 0
      },
      "text/plain": [
       "  0%|          | 0/12 [00:00<?, ?it/s]"
      ]
     },
     "metadata": {},
     "output_type": "display_data"
    },
    {
     "data": {
      "application/vnd.jupyter.widget-view+json": {
       "model_id": "cb419afbb54d4bd38c98036bebed082c",
       "version_major": 2,
       "version_minor": 0
      },
      "text/plain": [
       "  0%|          | 0/95 [00:00<?, ?it/s]"
      ]
     },
     "metadata": {},
     "output_type": "display_data"
    },
    {
     "data": {
      "application/vnd.jupyter.widget-view+json": {
       "model_id": "76600898c81a4488aeb81257818c7bc8",
       "version_major": 2,
       "version_minor": 0
      },
      "text/plain": [
       "  0%|          | 0/12 [00:00<?, ?it/s]"
      ]
     },
     "metadata": {},
     "output_type": "display_data"
    }
   ],
   "source": [
    "#make prediction for original data and perturbed data to compare\n",
    "original_predictions=model.predict([sent[0] for ix, sent in enumerate(ret.data)])\n",
    "perturb_predictions=model.predict([sent[1] for ix, sent in enumerate(ret.data)])"
   ]
  },
  {
   "cell_type": "code",
   "execution_count": 52,
   "metadata": {},
   "outputs": [
    {
     "name": "stdout",
     "output_type": "stream",
     "text": [
      "[1, 0, 1, 0, 1, 1, 0, 1, 0, 1, 0, 1, 1, 1, 1, 1, 1, 1, 1, 1, 1, 1, 0, 0, 0, 0, 1, 1, 0, 1, 0, 1, 1, 1, 0, 1, 1, 1, 0, 1, 1, 1, 1, 0, 1, 0, 1, 0, 0, 1, 0, 0, 0, 0, 0, 0, 0, 0, 0, 1, 0, 0, 1, 0, 0, 0, 0, 0, 1, 0, 0, 0, 0, 0, 0, 1, 0, 0, 0, 0, 1, 0, 0, 0, 0, 0, 0, 0, 0, 0, 0, 0, 0, 0, 0]\n",
      "[1, 0, 1, 0, 1, 1, 0, 1, 0, 1, 0, 1, 1, 1, 1, 1, 1, 1, 1, 1, 1, 1, 0, 0, 0, 0, 1, 1, 0, 1, 0, 1, 1, 1, 0, 1, 1, 1, 0, 1, 1, 1, 1, 0, 1, 0, 1, 0, 0, 1, 0, 0, 0, 0, 0, 0, 0, 0, 0, 1, 0, 0, 1, 0, 0, 0, 0, 0, 1, 0, 0, 0, 0, 0, 0, 1, 0, 0, 0, 0, 1, 0, 0, 1, 0, 0, 0, 0, 0, 0, 0, 0, 0, 0, 0]\n"
     ]
    }
   ],
   "source": [
    "print(perturb_predictions[0])\n",
    "print(original_predictions[0])"
   ]
  },
  {
   "cell_type": "code",
   "execution_count": 51,
   "metadata": {},
   "outputs": [
    {
     "name": "stdout",
     "output_type": "stream",
     "text": [
      "[1, 1, 1, 1, 1, 1, 1, 1, 1, 1, 1, 1, 1, 1, 1, 1, 1, 1, 1, 1, 1, 1, 1, 1, 1, 1, 1, 1, 1, 1, 1, 1, 1, 1, 1, 1, 1, 1, 1, 1, 1, 1, 1, 1, 1, 1, 1, 1, 1, 1, 1, 1, 1, 1, 1, 1, 1, 1, 1, 1, 1, 1, 1, 1, 1, 1, 1, 1, 1, 1, 1, 1, 1, 1, 1, 1, 1, 1, 1, 1, 1, 1, 1, 0, 1, 1, 1, 1, 1, 1, 1, 1, 1, 1, 1]\n"
     ]
    }
   ],
   "source": [
    "#check where model assigned different label after perturb\n",
    "compare_order = [1 if i==j else 0 for i, j in zip(perturb_predictions[0],original_predictions[0])]\n",
    "print(compare_order)\n",
    "#only 1 sentence changed label"
   ]
  },
  {
   "cell_type": "code",
   "execution_count": 58,
   "metadata": {},
   "outputs": [
    {
     "name": "stdout",
     "output_type": "stream",
     "text": [
      "@USER #MAGA who cares about the farm.  He had no reason to commit murder. End of story.\n",
      "@USER #MAGA who cares about the farm.  He didn't have no reason to commit murder. End of story.\n"
     ]
    }
   ],
   "source": [
    "idx=compare_order.index(0)\n",
    "print(ret.data[idx][0])\n",
    "print(ret.data[idx][1])"
   ]
  },
  {
   "cell_type": "code",
   "execution_count": 59,
   "metadata": {},
   "outputs": [
    {
     "data": {
      "text/html": [
       "<div>\n",
       "<style scoped>\n",
       "    .dataframe tbody tr th:only-of-type {\n",
       "        vertical-align: middle;\n",
       "    }\n",
       "\n",
       "    .dataframe tbody tr th {\n",
       "        vertical-align: top;\n",
       "    }\n",
       "\n",
       "    .dataframe thead th {\n",
       "        text-align: right;\n",
       "    }\n",
       "</style>\n",
       "<table border=\"1\" class=\"dataframe\">\n",
       "  <thead>\n",
       "    <tr style=\"text-align: right;\">\n",
       "      <th></th>\n",
       "      <th>text</th>\n",
       "      <th>labels</th>\n",
       "    </tr>\n",
       "    <tr>\n",
       "      <th>id</th>\n",
       "      <th></th>\n",
       "      <th></th>\n",
       "    </tr>\n",
       "  </thead>\n",
       "  <tbody>\n",
       "    <tr>\n",
       "      <th>79934</th>\n",
       "      <td>@USER 'cause everyone knows a real leader fall...</td>\n",
       "      <td>1</td>\n",
       "    </tr>\n",
       "  </tbody>\n",
       "</table>\n",
       "</div>"
      ],
      "text/plain": [
       "                                                    text  labels\n",
       "id                                                              \n",
       "79934  @USER 'cause everyone knows a real leader fall...       1"
      ]
     },
     "execution_count": 59,
     "metadata": {},
     "output_type": "execute_result"
    }
   ],
   "source": [
    "#get id of tweet\n",
    "subset.loc[subset['text'].str.contains(\"cause everyone knows a real leader falls into a van like a sack of potatoes\")]"
   ]
  }
 ],
 "metadata": {
  "interpreter": {
   "hash": "4c384c772ea30b5a22e0cf3217d09eec4d0111be9d0c7dd0cf6c7382ab4e0cd8"
  },
  "kernelspec": {
   "display_name": "Python 3 (ipykernel)",
   "language": "python",
   "name": "python3"
  },
  "language_info": {
   "codemirror_mode": {
    "name": "ipython",
    "version": 3
   },
   "file_extension": ".py",
   "mimetype": "text/x-python",
   "name": "python",
   "nbconvert_exporter": "python",
   "pygments_lexer": "ipython3",
   "version": "3.8.13"
  }
 },
 "nbformat": 4,
 "nbformat_minor": 2
}
