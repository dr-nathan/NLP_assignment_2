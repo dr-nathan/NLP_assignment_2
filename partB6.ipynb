{
 "cells": [
  {
   "cell_type": "code",
   "execution_count": 1,
   "metadata": {},
   "outputs": [
    {
     "name": "stdout",
     "output_type": "stream",
     "text": [
      "^C\n",
      "Requirement already satisfied: nltk in c:\\users\\nvs690\\miniconda3\\envs\\nlp\\lib\\site-packages (3.7)\n",
      "Requirement already satisfied: click in c:\\users\\nvs690\\miniconda3\\envs\\nlp\\lib\\site-packages (from nltk) (8.0.4)\n",
      "Requirement already satisfied: joblib in c:\\users\\nvs690\\miniconda3\\envs\\nlp\\lib\\site-packages (from nltk) (1.1.0)\n",
      "Requirement already satisfied: tqdm in c:\\users\\nvs690\\miniconda3\\envs\\nlp\\lib\\site-packages (from nltk) (4.64.0)\n",
      "Requirement already satisfied: regex>=2021.8.3 in c:\\users\\nvs690\\miniconda3\\envs\\nlp\\lib\\site-packages (from nltk) (2022.3.15)\n",
      "Requirement already satisfied: colorama in c:\\users\\nvs690\\miniconda3\\envs\\nlp\\lib\\site-packages (from click->nltk) (0.4.4)\n",
      "Requirement already satisfied: pandas in c:\\users\\nvs690\\miniconda3\\envs\\nlp\\lib\\site-packages (1.4.2)\n",
      "Requirement already satisfied: pytz>=2020.1 in c:\\users\\nvs690\\miniconda3\\envs\\nlp\\lib\\site-packages (from pandas) (2022.1)\n",
      "Requirement already satisfied: numpy>=1.18.5 in c:\\users\\nvs690\\miniconda3\\envs\\nlp\\lib\\site-packages (from pandas) (1.22.3)\n",
      "Requirement already satisfied: python-dateutil>=2.8.1 in c:\\users\\nvs690\\miniconda3\\envs\\nlp\\lib\\site-packages (from pandas) (2.8.2)\n",
      "Requirement already satisfied: six>=1.5 in c:\\users\\nvs690\\miniconda3\\envs\\nlp\\lib\\site-packages (from python-dateutil>=2.8.1->pandas) (1.16.0)\n",
      "Requirement already satisfied: simpletransformers in c:\\users\\nvs690\\miniconda3\\envs\\nlp\\lib\\site-packages (0.63.6)\n",
      "Requirement already satisfied: wandb>=0.10.32 in c:\\users\\nvs690\\miniconda3\\envs\\nlp\\lib\\site-packages (from simpletransformers) (0.12.16)\n",
      "Requirement already satisfied: tokenizers in c:\\users\\nvs690\\miniconda3\\envs\\nlp\\lib\\site-packages (from simpletransformers) (0.12.1)\n",
      "Requirement already satisfied: regex in c:\\users\\nvs690\\miniconda3\\envs\\nlp\\lib\\site-packages (from simpletransformers) (2022.3.15)\n",
      "Requirement already satisfied: tqdm>=4.47.0 in c:\\users\\nvs690\\miniconda3\\envs\\nlp\\lib\\site-packages (from simpletransformers) (4.64.0)\n",
      "Requirement already satisfied: streamlit in c:\\users\\nvs690\\miniconda3\\envs\\nlp\\lib\\site-packages (from simpletransformers) (1.8.1)\n",
      "Requirement already satisfied: scipy in c:\\users\\nvs690\\miniconda3\\envs\\nlp\\lib\\site-packages (from simpletransformers) (1.8.0)\n",
      "Requirement already satisfied: scikit-learn in c:\\users\\nvs690\\miniconda3\\envs\\nlp\\lib\\site-packages (from simpletransformers) (1.0.2)\n",
      "Requirement already satisfied: pandas in c:\\users\\nvs690\\miniconda3\\envs\\nlp\\lib\\site-packages (from simpletransformers) (1.4.2)\n",
      "Requirement already satisfied: tensorboard in c:\\users\\nvs690\\miniconda3\\envs\\nlp\\lib\\site-packages (from simpletransformers) (2.9.0)\n",
      "Requirement already satisfied: sentencepiece in c:\\users\\nvs690\\miniconda3\\envs\\nlp\\lib\\site-packages (from simpletransformers) (0.1.96)\n",
      "Requirement already satisfied: requests in c:\\users\\nvs690\\miniconda3\\envs\\nlp\\lib\\site-packages (from simpletransformers) (2.27.1)\n",
      "Requirement already satisfied: numpy in c:\\users\\nvs690\\miniconda3\\envs\\nlp\\lib\\site-packages (from simpletransformers) (1.22.3)\n",
      "Requirement already satisfied: transformers>=4.6.0 in c:\\users\\nvs690\\miniconda3\\envs\\nlp\\lib\\site-packages (from simpletransformers) (4.18.0)\n",
      "Requirement already satisfied: datasets in c:\\users\\nvs690\\miniconda3\\envs\\nlp\\lib\\site-packages (from simpletransformers) (2.1.0)\n",
      "Requirement already satisfied: seqeval in c:\\users\\nvs690\\miniconda3\\envs\\nlp\\lib\\site-packages (from simpletransformers) (1.2.2)\n",
      "Requirement already satisfied: colorama in c:\\users\\nvs690\\miniconda3\\envs\\nlp\\lib\\site-packages (from tqdm>=4.47.0->simpletransformers) (0.4.4)\n",
      "Requirement already satisfied: huggingface-hub<1.0,>=0.1.0 in c:\\users\\nvs690\\miniconda3\\envs\\nlp\\lib\\site-packages (from transformers>=4.6.0->simpletransformers) (0.5.1)\n",
      "Requirement already satisfied: filelock in c:\\users\\nvs690\\miniconda3\\envs\\nlp\\lib\\site-packages (from transformers>=4.6.0->simpletransformers) (3.6.0)\n",
      "Requirement already satisfied: packaging>=20.0 in c:\\users\\nvs690\\miniconda3\\envs\\nlp\\lib\\site-packages (from transformers>=4.6.0->simpletransformers) (21.3)\n",
      "Requirement already satisfied: sacremoses in c:\\users\\nvs690\\miniconda3\\envs\\nlp\\lib\\site-packages (from transformers>=4.6.0->simpletransformers) (0.0.53)\n",
      "Requirement already satisfied: pyyaml>=5.1 in c:\\users\\nvs690\\miniconda3\\envs\\nlp\\lib\\site-packages (from transformers>=4.6.0->simpletransformers) (6.0)\n",
      "Requirement already satisfied: typing-extensions>=3.7.4.3 in c:\\users\\nvs690\\miniconda3\\envs\\nlp\\lib\\site-packages (from huggingface-hub<1.0,>=0.1.0->transformers>=4.6.0->simpletransformers) (4.1.1)\n",
      "Requirement already satisfied: pyparsing!=3.0.5,>=2.0.2 in c:\\users\\nvs690\\miniconda3\\envs\\nlp\\lib\\site-packages (from packaging>=20.0->transformers>=4.6.0->simpletransformers) (3.0.7)\n",
      "Requirement already satisfied: setuptools in c:\\users\\nvs690\\miniconda3\\envs\\nlp\\lib\\site-packages (from wandb>=0.10.32->simpletransformers) (58.0.4)\n",
      "Requirement already satisfied: GitPython>=1.0.0 in c:\\users\\nvs690\\miniconda3\\envs\\nlp\\lib\\site-packages (from wandb>=0.10.32->simpletransformers) (3.1.27)\n",
      "Requirement already satisfied: psutil>=5.0.0 in c:\\users\\nvs690\\miniconda3\\envs\\nlp\\lib\\site-packages (from wandb>=0.10.32->simpletransformers) (5.9.0)\n",
      "Requirement already satisfied: promise<3,>=2.0 in c:\\users\\nvs690\\miniconda3\\envs\\nlp\\lib\\site-packages (from wandb>=0.10.32->simpletransformers) (2.3)\n",
      "Requirement already satisfied: Click!=8.0.0,>=7.0 in c:\\users\\nvs690\\miniconda3\\envs\\nlp\\lib\\site-packages (from wandb>=0.10.32->simpletransformers) (8.0.4)\n",
      "Requirement already satisfied: sentry-sdk>=1.0.0 in c:\\users\\nvs690\\miniconda3\\envs\\nlp\\lib\\site-packages (from wandb>=0.10.32->simpletransformers) (1.5.11)\n",
      "Requirement already satisfied: protobuf>=3.12.0 in c:\\users\\nvs690\\miniconda3\\envs\\nlp\\lib\\site-packages (from wandb>=0.10.32->simpletransformers) (3.20.1)\n",
      "Requirement already satisfied: six>=1.13.0 in c:\\users\\nvs690\\miniconda3\\envs\\nlp\\lib\\site-packages (from wandb>=0.10.32->simpletransformers) (1.16.0)\n",
      "Requirement already satisfied: pathtools in c:\\users\\nvs690\\miniconda3\\envs\\nlp\\lib\\site-packages (from wandb>=0.10.32->simpletransformers) (0.1.2)\n",
      "Requirement already satisfied: docker-pycreds>=0.4.0 in c:\\users\\nvs690\\miniconda3\\envs\\nlp\\lib\\site-packages (from wandb>=0.10.32->simpletransformers) (0.4.0)\n",
      "Requirement already satisfied: setproctitle in c:\\users\\nvs690\\miniconda3\\envs\\nlp\\lib\\site-packages (from wandb>=0.10.32->simpletransformers) (1.2.3)\n",
      "Requirement already satisfied: python-dateutil>=2.6.1 in c:\\users\\nvs690\\miniconda3\\envs\\nlp\\lib\\site-packages (from wandb>=0.10.32->simpletransformers) (2.8.2)\n",
      "Requirement already satisfied: shortuuid>=0.5.0 in c:\\users\\nvs690\\miniconda3\\envs\\nlp\\lib\\site-packages (from wandb>=0.10.32->simpletransformers) (1.0.8)\n",
      "Requirement already satisfied: gitdb<5,>=4.0.1 in c:\\users\\nvs690\\miniconda3\\envs\\nlp\\lib\\site-packages (from GitPython>=1.0.0->wandb>=0.10.32->simpletransformers) (4.0.9)\n",
      "Requirement already satisfied: smmap<6,>=3.0.1 in c:\\users\\nvs690\\miniconda3\\envs\\nlp\\lib\\site-packages (from gitdb<5,>=4.0.1->GitPython>=1.0.0->wandb>=0.10.32->simpletransformers) (5.0.0)\n",
      "Requirement already satisfied: certifi>=2017.4.17 in c:\\users\\nvs690\\miniconda3\\envs\\nlp\\lib\\site-packages (from requests->simpletransformers) (2021.10.8)\n",
      "Requirement already satisfied: charset-normalizer~=2.0.0 in c:\\users\\nvs690\\miniconda3\\envs\\nlp\\lib\\site-packages (from requests->simpletransformers) (2.0.12)\n",
      "Requirement already satisfied: idna<4,>=2.5 in c:\\users\\nvs690\\miniconda3\\envs\\nlp\\lib\\site-packages (from requests->simpletransformers) (3.3)\n",
      "Requirement already satisfied: urllib3<1.27,>=1.21.1 in c:\\users\\nvs690\\miniconda3\\envs\\nlp\\lib\\site-packages (from requests->simpletransformers) (1.26.9)\n",
      "Requirement already satisfied: responses<0.19 in c:\\users\\nvs690\\miniconda3\\envs\\nlp\\lib\\site-packages (from datasets->simpletransformers) (0.18.0)\n",
      "Requirement already satisfied: aiohttp in c:\\users\\nvs690\\miniconda3\\envs\\nlp\\lib\\site-packages (from datasets->simpletransformers) (3.8.1)\n",
      "Requirement already satisfied: fsspec[http]>=2021.05.0 in c:\\users\\nvs690\\miniconda3\\envs\\nlp\\lib\\site-packages (from datasets->simpletransformers) (2022.3.0)\n",
      "Requirement already satisfied: pyarrow>=5.0.0 in c:\\users\\nvs690\\miniconda3\\envs\\nlp\\lib\\site-packages (from datasets->simpletransformers) (7.0.0)\n",
      "Requirement already satisfied: dill in c:\\users\\nvs690\\miniconda3\\envs\\nlp\\lib\\site-packages (from datasets->simpletransformers) (0.3.4)\n",
      "Requirement already satisfied: xxhash in c:\\users\\nvs690\\miniconda3\\envs\\nlp\\lib\\site-packages (from datasets->simpletransformers) (3.0.0)\n",
      "Requirement already satisfied: multiprocess in c:\\users\\nvs690\\miniconda3\\envs\\nlp\\lib\\site-packages (from datasets->simpletransformers) (0.70.12.2)\n",
      "Requirement already satisfied: frozenlist>=1.1.1 in c:\\users\\nvs690\\miniconda3\\envs\\nlp\\lib\\site-packages (from aiohttp->datasets->simpletransformers) (1.3.0)\n",
      "Requirement already satisfied: attrs>=17.3.0 in c:\\users\\nvs690\\miniconda3\\envs\\nlp\\lib\\site-packages (from aiohttp->datasets->simpletransformers) (21.4.0)\n",
      "Requirement already satisfied: async-timeout<5.0,>=4.0.0a3 in c:\\users\\nvs690\\miniconda3\\envs\\nlp\\lib\\site-packages (from aiohttp->datasets->simpletransformers) (4.0.2)\n",
      "Requirement already satisfied: multidict<7.0,>=4.5 in c:\\users\\nvs690\\miniconda3\\envs\\nlp\\lib\\site-packages (from aiohttp->datasets->simpletransformers) (6.0.2)\n",
      "Requirement already satisfied: aiosignal>=1.1.2 in c:\\users\\nvs690\\miniconda3\\envs\\nlp\\lib\\site-packages (from aiohttp->datasets->simpletransformers) (1.2.0)\n",
      "Requirement already satisfied: yarl<2.0,>=1.0 in c:\\users\\nvs690\\miniconda3\\envs\\nlp\\lib\\site-packages (from aiohttp->datasets->simpletransformers) (1.7.2)\n",
      "Requirement already satisfied: pytz>=2020.1 in c:\\users\\nvs690\\miniconda3\\envs\\nlp\\lib\\site-packages (from pandas->simpletransformers) (2022.1)\n",
      "Requirement already satisfied: joblib in c:\\users\\nvs690\\miniconda3\\envs\\nlp\\lib\\site-packages (from sacremoses->transformers>=4.6.0->simpletransformers) (1.1.0)\n",
      "Requirement already satisfied: threadpoolctl>=2.0.0 in c:\\users\\nvs690\\miniconda3\\envs\\nlp\\lib\\site-packages (from scikit-learn->simpletransformers) (3.1.0)\n",
      "Requirement already satisfied: pympler>=0.9 in c:\\users\\nvs690\\miniconda3\\envs\\nlp\\lib\\site-packages (from streamlit->simpletransformers) (1.0.1)\n",
      "Requirement already satisfied: toml in c:\\users\\nvs690\\miniconda3\\envs\\nlp\\lib\\site-packages (from streamlit->simpletransformers) (0.10.2)\n",
      "Requirement already satisfied: watchdog in c:\\users\\nvs690\\miniconda3\\envs\\nlp\\lib\\site-packages (from streamlit->simpletransformers) (2.1.7)\n",
      "Requirement already satisfied: importlib-metadata>=1.4 in c:\\users\\nvs690\\miniconda3\\envs\\nlp\\lib\\site-packages (from streamlit->simpletransformers) (4.11.3)\n",
      "Requirement already satisfied: semver in c:\\users\\nvs690\\miniconda3\\envs\\nlp\\lib\\site-packages (from streamlit->simpletransformers) (2.13.0)\n",
      "Requirement already satisfied: validators in c:\\users\\nvs690\\miniconda3\\envs\\nlp\\lib\\site-packages (from streamlit->simpletransformers) (0.18.2)\n",
      "Requirement already satisfied: blinker in c:\\users\\nvs690\\miniconda3\\envs\\nlp\\lib\\site-packages (from streamlit->simpletransformers) (1.4)\n",
      "Requirement already satisfied: pydeck>=0.1.dev5 in c:\\users\\nvs690\\miniconda3\\envs\\nlp\\lib\\site-packages (from streamlit->simpletransformers) (0.7.1)\n",
      "Requirement already satisfied: tornado>=5.0 in c:\\users\\nvs690\\miniconda3\\envs\\nlp\\lib\\site-packages (from streamlit->simpletransformers) (6.1)\n",
      "Requirement already satisfied: tzlocal in c:\\users\\nvs690\\miniconda3\\envs\\nlp\\lib\\site-packages (from streamlit->simpletransformers) (4.2)\n",
      "Requirement already satisfied: pillow>=6.2.0 in c:\\users\\nvs690\\miniconda3\\envs\\nlp\\lib\\site-packages (from streamlit->simpletransformers) (9.1.0)\n",
      "Requirement already satisfied: altair>=3.2.0 in c:\\users\\nvs690\\miniconda3\\envs\\nlp\\lib\\site-packages (from streamlit->simpletransformers) (4.2.0)\n",
      "Requirement already satisfied: cachetools>=4.0 in c:\\users\\nvs690\\miniconda3\\envs\\nlp\\lib\\site-packages (from streamlit->simpletransformers) (5.0.0)\n",
      "Requirement already satisfied: entrypoints in c:\\users\\nvs690\\miniconda3\\envs\\nlp\\lib\\site-packages (from altair>=3.2.0->streamlit->simpletransformers) (0.4)\n",
      "Requirement already satisfied: toolz in c:\\users\\nvs690\\miniconda3\\envs\\nlp\\lib\\site-packages (from altair>=3.2.0->streamlit->simpletransformers) (0.11.2)\n",
      "Requirement already satisfied: jinja2 in c:\\users\\nvs690\\miniconda3\\envs\\nlp\\lib\\site-packages (from altair>=3.2.0->streamlit->simpletransformers) (3.0.3)\n",
      "Requirement already satisfied: jsonschema>=3.0 in c:\\users\\nvs690\\miniconda3\\envs\\nlp\\lib\\site-packages (from altair>=3.2.0->streamlit->simpletransformers) (4.4.0)\n",
      "Requirement already satisfied: zipp>=0.5 in c:\\users\\nvs690\\miniconda3\\envs\\nlp\\lib\\site-packages (from importlib-metadata>=1.4->streamlit->simpletransformers) (3.8.0)\n",
      "Requirement already satisfied: pyrsistent!=0.17.0,!=0.17.1,!=0.17.2,>=0.14.0 in c:\\users\\nvs690\\miniconda3\\envs\\nlp\\lib\\site-packages (from jsonschema>=3.0->altair>=3.2.0->streamlit->simpletransformers) (0.18.1)\n",
      "Requirement already satisfied: importlib-resources>=1.4.0 in c:\\users\\nvs690\\miniconda3\\envs\\nlp\\lib\\site-packages (from jsonschema>=3.0->altair>=3.2.0->streamlit->simpletransformers) (5.6.0)\n",
      "Requirement already satisfied: ipykernel>=5.1.2 in c:\\users\\nvs690\\miniconda3\\envs\\nlp\\lib\\site-packages (from pydeck>=0.1.dev5->streamlit->simpletransformers) (6.12.1)\n",
      "Requirement already satisfied: traitlets>=4.3.2 in c:\\users\\nvs690\\miniconda3\\envs\\nlp\\lib\\site-packages (from pydeck>=0.1.dev5->streamlit->simpletransformers) (5.1.1)\n",
      "Requirement already satisfied: ipywidgets>=7.0.0 in c:\\users\\nvs690\\miniconda3\\envs\\nlp\\lib\\site-packages (from pydeck>=0.1.dev5->streamlit->simpletransformers) (7.7.0)\n",
      "Requirement already satisfied: debugpy>=1.0 in c:\\users\\nvs690\\miniconda3\\envs\\nlp\\lib\\site-packages (from ipykernel>=5.1.2->pydeck>=0.1.dev5->streamlit->simpletransformers) (1.6.0)\n",
      "Requirement already satisfied: jupyter-client>=6.1.12 in c:\\users\\nvs690\\miniconda3\\envs\\nlp\\lib\\site-packages (from ipykernel>=5.1.2->pydeck>=0.1.dev5->streamlit->simpletransformers) (7.2.2)\n",
      "Requirement already satisfied: matplotlib-inline>=0.1 in c:\\users\\nvs690\\miniconda3\\envs\\nlp\\lib\\site-packages (from ipykernel>=5.1.2->pydeck>=0.1.dev5->streamlit->simpletransformers) (0.1.3)\n",
      "Requirement already satisfied: nest-asyncio in c:\\users\\nvs690\\miniconda3\\envs\\nlp\\lib\\site-packages (from ipykernel>=5.1.2->pydeck>=0.1.dev5->streamlit->simpletransformers) (1.5.5)\n",
      "Requirement already satisfied: ipython>=7.23.1 in c:\\users\\nvs690\\miniconda3\\envs\\nlp\\lib\\site-packages (from ipykernel>=5.1.2->pydeck>=0.1.dev5->streamlit->simpletransformers) (7.32.0)\n",
      "Requirement already satisfied: backcall in c:\\users\\nvs690\\miniconda3\\envs\\nlp\\lib\\site-packages (from ipython>=7.23.1->ipykernel>=5.1.2->pydeck>=0.1.dev5->streamlit->simpletransformers) (0.2.0)\n",
      "Requirement already satisfied: pygments in c:\\users\\nvs690\\miniconda3\\envs\\nlp\\lib\\site-packages (from ipython>=7.23.1->ipykernel>=5.1.2->pydeck>=0.1.dev5->streamlit->simpletransformers) (2.11.2)\n",
      "Requirement already satisfied: jedi>=0.16 in c:\\users\\nvs690\\miniconda3\\envs\\nlp\\lib\\site-packages (from ipython>=7.23.1->ipykernel>=5.1.2->pydeck>=0.1.dev5->streamlit->simpletransformers) (0.18.1)\n",
      "Requirement already satisfied: pickleshare in c:\\users\\nvs690\\miniconda3\\envs\\nlp\\lib\\site-packages (from ipython>=7.23.1->ipykernel>=5.1.2->pydeck>=0.1.dev5->streamlit->simpletransformers) (0.7.5)\n",
      "Requirement already satisfied: decorator in c:\\users\\nvs690\\miniconda3\\envs\\nlp\\lib\\site-packages (from ipython>=7.23.1->ipykernel>=5.1.2->pydeck>=0.1.dev5->streamlit->simpletransformers) (5.1.1)\n",
      "Requirement already satisfied: prompt-toolkit!=3.0.0,!=3.0.1,<3.1.0,>=2.0.0 in c:\\users\\nvs690\\miniconda3\\envs\\nlp\\lib\\site-packages (from ipython>=7.23.1->ipykernel>=5.1.2->pydeck>=0.1.dev5->streamlit->simpletransformers) (3.0.29)\n",
      "Requirement already satisfied: nbformat>=4.2.0 in c:\\users\\nvs690\\miniconda3\\envs\\nlp\\lib\\site-packages (from ipywidgets>=7.0.0->pydeck>=0.1.dev5->streamlit->simpletransformers) (5.3.0)\n",
      "Requirement already satisfied: jupyterlab-widgets>=1.0.0 in c:\\users\\nvs690\\miniconda3\\envs\\nlp\\lib\\site-packages (from ipywidgets>=7.0.0->pydeck>=0.1.dev5->streamlit->simpletransformers) (1.1.0)\n",
      "Requirement already satisfied: widgetsnbextension~=3.6.0 in c:\\users\\nvs690\\miniconda3\\envs\\nlp\\lib\\site-packages (from ipywidgets>=7.0.0->pydeck>=0.1.dev5->streamlit->simpletransformers) (3.6.0)\n",
      "Requirement already satisfied: ipython-genutils~=0.2.0 in c:\\users\\nvs690\\miniconda3\\envs\\nlp\\lib\\site-packages (from ipywidgets>=7.0.0->pydeck>=0.1.dev5->streamlit->simpletransformers) (0.2.0)\n",
      "Requirement already satisfied: parso<0.9.0,>=0.8.0 in c:\\users\\nvs690\\miniconda3\\envs\\nlp\\lib\\site-packages (from jedi>=0.16->ipython>=7.23.1->ipykernel>=5.1.2->pydeck>=0.1.dev5->streamlit->simpletransformers) (0.8.3)\n",
      "Requirement already satisfied: MarkupSafe>=2.0 in c:\\users\\nvs690\\miniconda3\\envs\\nlp\\lib\\site-packages (from jinja2->altair>=3.2.0->streamlit->simpletransformers) (2.1.1)\n",
      "Requirement already satisfied: pyzmq>=22.3 in c:\\users\\nvs690\\miniconda3\\envs\\nlp\\lib\\site-packages (from jupyter-client>=6.1.12->ipykernel>=5.1.2->pydeck>=0.1.dev5->streamlit->simpletransformers) (22.3.0)\n",
      "Requirement already satisfied: jupyter-core>=4.9.2 in c:\\users\\nvs690\\miniconda3\\envs\\nlp\\lib\\site-packages (from jupyter-client>=6.1.12->ipykernel>=5.1.2->pydeck>=0.1.dev5->streamlit->simpletransformers) (4.9.2)\n",
      "Requirement already satisfied: pywin32>=1.0 in c:\\users\\nvs690\\miniconda3\\envs\\nlp\\lib\\site-packages (from jupyter-core>=4.9.2->jupyter-client>=6.1.12->ipykernel>=5.1.2->pydeck>=0.1.dev5->streamlit->simpletransformers) (303)\n",
      "Requirement already satisfied: fastjsonschema in c:\\users\\nvs690\\miniconda3\\envs\\nlp\\lib\\site-packages (from nbformat>=4.2.0->ipywidgets>=7.0.0->pydeck>=0.1.dev5->streamlit->simpletransformers) (2.15.3)\n",
      "Requirement already satisfied: wcwidth in c:\\users\\nvs690\\miniconda3\\envs\\nlp\\lib\\site-packages (from prompt-toolkit!=3.0.0,!=3.0.1,<3.1.0,>=2.0.0->ipython>=7.23.1->ipykernel>=5.1.2->pydeck>=0.1.dev5->streamlit->simpletransformers) (0.2.5)\n",
      "Requirement already satisfied: notebook>=4.4.1 in c:\\users\\nvs690\\miniconda3\\envs\\nlp\\lib\\site-packages (from widgetsnbextension~=3.6.0->ipywidgets>=7.0.0->pydeck>=0.1.dev5->streamlit->simpletransformers) (6.4.10)\n",
      "Requirement already satisfied: terminado>=0.8.3 in c:\\users\\nvs690\\miniconda3\\envs\\nlp\\lib\\site-packages (from notebook>=4.4.1->widgetsnbextension~=3.6.0->ipywidgets>=7.0.0->pydeck>=0.1.dev5->streamlit->simpletransformers) (0.13.3)\n",
      "Requirement already satisfied: argon2-cffi in c:\\users\\nvs690\\miniconda3\\envs\\nlp\\lib\\site-packages (from notebook>=4.4.1->widgetsnbextension~=3.6.0->ipywidgets>=7.0.0->pydeck>=0.1.dev5->streamlit->simpletransformers) (21.3.0)\n",
      "Requirement already satisfied: nbconvert>=5 in c:\\users\\nvs690\\miniconda3\\envs\\nlp\\lib\\site-packages (from notebook>=4.4.1->widgetsnbextension~=3.6.0->ipywidgets>=7.0.0->pydeck>=0.1.dev5->streamlit->simpletransformers) (6.4.5)\n",
      "Requirement already satisfied: prometheus-client in c:\\users\\nvs690\\miniconda3\\envs\\nlp\\lib\\site-packages (from notebook>=4.4.1->widgetsnbextension~=3.6.0->ipywidgets>=7.0.0->pydeck>=0.1.dev5->streamlit->simpletransformers) (0.14.1)\n",
      "Requirement already satisfied: Send2Trash>=1.8.0 in c:\\users\\nvs690\\miniconda3\\envs\\nlp\\lib\\site-packages (from notebook>=4.4.1->widgetsnbextension~=3.6.0->ipywidgets>=7.0.0->pydeck>=0.1.dev5->streamlit->simpletransformers) (1.8.0)\n",
      "Requirement already satisfied: testpath in c:\\users\\nvs690\\miniconda3\\envs\\nlp\\lib\\site-packages (from nbconvert>=5->notebook>=4.4.1->widgetsnbextension~=3.6.0->ipywidgets>=7.0.0->pydeck>=0.1.dev5->streamlit->simpletransformers) (0.6.0)\n",
      "Requirement already satisfied: pandocfilters>=1.4.1 in c:\\users\\nvs690\\miniconda3\\envs\\nlp\\lib\\site-packages (from nbconvert>=5->notebook>=4.4.1->widgetsnbextension~=3.6.0->ipywidgets>=7.0.0->pydeck>=0.1.dev5->streamlit->simpletransformers) (1.5.0)\n",
      "Requirement already satisfied: nbclient<0.6.0,>=0.5.0 in c:\\users\\nvs690\\miniconda3\\envs\\nlp\\lib\\site-packages (from nbconvert>=5->notebook>=4.4.1->widgetsnbextension~=3.6.0->ipywidgets>=7.0.0->pydeck>=0.1.dev5->streamlit->simpletransformers) (0.5.13)\n",
      "Requirement already satisfied: bleach in c:\\users\\nvs690\\miniconda3\\envs\\nlp\\lib\\site-packages (from nbconvert>=5->notebook>=4.4.1->widgetsnbextension~=3.6.0->ipywidgets>=7.0.0->pydeck>=0.1.dev5->streamlit->simpletransformers) (4.1.0)\n",
      "Requirement already satisfied: mistune<2,>=0.8.1 in c:\\users\\nvs690\\miniconda3\\envs\\nlp\\lib\\site-packages (from nbconvert>=5->notebook>=4.4.1->widgetsnbextension~=3.6.0->ipywidgets>=7.0.0->pydeck>=0.1.dev5->streamlit->simpletransformers) (0.8.4)\n",
      "Requirement already satisfied: jupyterlab-pygments in c:\\users\\nvs690\\miniconda3\\envs\\nlp\\lib\\site-packages (from nbconvert>=5->notebook>=4.4.1->widgetsnbextension~=3.6.0->ipywidgets>=7.0.0->pydeck>=0.1.dev5->streamlit->simpletransformers) (0.1.2)\n",
      "Requirement already satisfied: defusedxml in c:\\users\\nvs690\\miniconda3\\envs\\nlp\\lib\\site-packages (from nbconvert>=5->notebook>=4.4.1->widgetsnbextension~=3.6.0->ipywidgets>=7.0.0->pydeck>=0.1.dev5->streamlit->simpletransformers) (0.7.1)\n",
      "Requirement already satisfied: beautifulsoup4 in c:\\users\\nvs690\\miniconda3\\envs\\nlp\\lib\\site-packages (from nbconvert>=5->notebook>=4.4.1->widgetsnbextension~=3.6.0->ipywidgets>=7.0.0->pydeck>=0.1.dev5->streamlit->simpletransformers) (4.10.0)\n",
      "Requirement already satisfied: pywinpty>=1.1.0 in c:\\users\\nvs690\\miniconda3\\envs\\nlp\\lib\\site-packages (from terminado>=0.8.3->notebook>=4.4.1->widgetsnbextension~=3.6.0->ipywidgets>=7.0.0->pydeck>=0.1.dev5->streamlit->simpletransformers) (2.0.5)\n",
      "Requirement already satisfied: argon2-cffi-bindings in c:\\users\\nvs690\\miniconda3\\envs\\nlp\\lib\\site-packages (from argon2-cffi->notebook>=4.4.1->widgetsnbextension~=3.6.0->ipywidgets>=7.0.0->pydeck>=0.1.dev5->streamlit->simpletransformers) (21.2.0)\n",
      "Requirement already satisfied: cffi>=1.0.1 in c:\\users\\nvs690\\miniconda3\\envs\\nlp\\lib\\site-packages (from argon2-cffi-bindings->argon2-cffi->notebook>=4.4.1->widgetsnbextension~=3.6.0->ipywidgets>=7.0.0->pydeck>=0.1.dev5->streamlit->simpletransformers) (1.15.0)\n",
      "Requirement already satisfied: pycparser in c:\\users\\nvs690\\miniconda3\\envs\\nlp\\lib\\site-packages (from cffi>=1.0.1->argon2-cffi-bindings->argon2-cffi->notebook>=4.4.1->widgetsnbextension~=3.6.0->ipywidgets>=7.0.0->pydeck>=0.1.dev5->streamlit->simpletransformers) (2.21)\n",
      "Requirement already satisfied: soupsieve>1.2 in c:\\users\\nvs690\\miniconda3\\envs\\nlp\\lib\\site-packages (from beautifulsoup4->nbconvert>=5->notebook>=4.4.1->widgetsnbextension~=3.6.0->ipywidgets>=7.0.0->pydeck>=0.1.dev5->streamlit->simpletransformers) (2.3.2)\n",
      "Requirement already satisfied: webencodings in c:\\users\\nvs690\\miniconda3\\envs\\nlp\\lib\\site-packages (from bleach->nbconvert>=5->notebook>=4.4.1->widgetsnbextension~=3.6.0->ipywidgets>=7.0.0->pydeck>=0.1.dev5->streamlit->simpletransformers) (0.5.1)\n",
      "Requirement already satisfied: markdown>=2.6.8 in c:\\users\\nvs690\\miniconda3\\envs\\nlp\\lib\\site-packages (from tensorboard->simpletransformers) (3.3.6)\n",
      "Requirement already satisfied: google-auth<3,>=1.6.3 in c:\\users\\nvs690\\miniconda3\\envs\\nlp\\lib\\site-packages (from tensorboard->simpletransformers) (2.6.6)\n",
      "Requirement already satisfied: grpcio>=1.24.3 in c:\\users\\nvs690\\miniconda3\\envs\\nlp\\lib\\site-packages (from tensorboard->simpletransformers) (1.44.0)\n",
      "Requirement already satisfied: werkzeug>=1.0.1 in c:\\users\\nvs690\\miniconda3\\envs\\nlp\\lib\\site-packages (from tensorboard->simpletransformers) (2.1.2)\n",
      "Requirement already satisfied: absl-py>=0.4 in c:\\users\\nvs690\\miniconda3\\envs\\nlp\\lib\\site-packages (from tensorboard->simpletransformers) (1.0.0)\n",
      "Requirement already satisfied: tensorboard-data-server<0.7.0,>=0.6.0 in c:\\users\\nvs690\\miniconda3\\envs\\nlp\\lib\\site-packages (from tensorboard->simpletransformers) (0.6.1)\n",
      "Requirement already satisfied: google-auth-oauthlib<0.5,>=0.4.1 in c:\\users\\nvs690\\miniconda3\\envs\\nlp\\lib\\site-packages (from tensorboard->simpletransformers) (0.4.6)\n",
      "Requirement already satisfied: wheel>=0.26 in c:\\users\\nvs690\\miniconda3\\envs\\nlp\\lib\\site-packages (from tensorboard->simpletransformers) (0.37.1)\n",
      "Requirement already satisfied: tensorboard-plugin-wit>=1.6.0 in c:\\users\\nvs690\\miniconda3\\envs\\nlp\\lib\\site-packages (from tensorboard->simpletransformers) (1.8.1)\n",
      "Requirement already satisfied: pyasn1-modules>=0.2.1 in c:\\users\\nvs690\\miniconda3\\envs\\nlp\\lib\\site-packages (from google-auth<3,>=1.6.3->tensorboard->simpletransformers) (0.2.8)\n",
      "Requirement already satisfied: rsa<5,>=3.1.4 in c:\\users\\nvs690\\miniconda3\\envs\\nlp\\lib\\site-packages (from google-auth<3,>=1.6.3->tensorboard->simpletransformers) (4.8)\n",
      "Requirement already satisfied: requests-oauthlib>=0.7.0 in c:\\users\\nvs690\\miniconda3\\envs\\nlp\\lib\\site-packages (from google-auth-oauthlib<0.5,>=0.4.1->tensorboard->simpletransformers) (1.3.1)\n",
      "Requirement already satisfied: pyasn1<0.5.0,>=0.4.6 in c:\\users\\nvs690\\miniconda3\\envs\\nlp\\lib\\site-packages (from pyasn1-modules>=0.2.1->google-auth<3,>=1.6.3->tensorboard->simpletransformers) (0.4.8)\n",
      "Requirement already satisfied: oauthlib>=3.0.0 in c:\\users\\nvs690\\miniconda3\\envs\\nlp\\lib\\site-packages (from requests-oauthlib>=0.7.0->google-auth-oauthlib<0.5,>=0.4.1->tensorboard->simpletransformers) (3.2.0)\n",
      "Requirement already satisfied: backports.zoneinfo in c:\\users\\nvs690\\miniconda3\\envs\\nlp\\lib\\site-packages (from tzlocal->streamlit->simpletransformers) (0.2.1)\n",
      "Requirement already satisfied: pytz-deprecation-shim in c:\\users\\nvs690\\miniconda3\\envs\\nlp\\lib\\site-packages (from tzlocal->streamlit->simpletransformers) (0.1.0.post0)\n",
      "Requirement already satisfied: tzdata in c:\\users\\nvs690\\miniconda3\\envs\\nlp\\lib\\site-packages (from tzlocal->streamlit->simpletransformers) (2022.1)\n"
     ]
    }
   ],
   "source": [
    "# ! pip install checklist\n",
    "# ! pip install nltk\n",
    "# ! pip install pandas\n",
    "# ! pip install simpletransformers"
   ]
  },
  {
   "cell_type": "code",
   "execution_count": 1,
   "metadata": {},
   "outputs": [],
   "source": [
    "import nltk\n",
    "import spacy\n",
    "# nltk.download('omw-1.4')"
   ]
  },
  {
   "cell_type": "code",
   "execution_count": 2,
   "metadata": {},
   "outputs": [],
   "source": [
    "import checklist\n",
    "from checklist.editor import Editor\n",
    "from checklist.perturb import Perturb\n",
    "\n",
    "import pandas as pd\n",
    "import numpy as np\n",
    "from simpletransformers.classification import ClassificationModel\n",
    "\n",
    "np.random.seed(42)\n",
    "\n",
    "editor = Editor()"
   ]
  },
  {
   "cell_type": "code",
   "execution_count": 3,
   "metadata": {},
   "outputs": [],
   "source": [
    "#load local model\n",
    "model = ClassificationModel(\"bert\", \"outputs\", use_cuda = False)\n"
   ]
  },
  {
   "cell_type": "code",
   "execution_count": 4,
   "metadata": {},
   "outputs": [
    {
     "data": {
      "text/html": [
       "<div>\n",
       "<style scoped>\n",
       "    .dataframe tbody tr th:only-of-type {\n",
       "        vertical-align: middle;\n",
       "    }\n",
       "\n",
       "    .dataframe tbody tr th {\n",
       "        vertical-align: top;\n",
       "    }\n",
       "\n",
       "    .dataframe thead th {\n",
       "        text-align: right;\n",
       "    }\n",
       "</style>\n",
       "<table border=\"1\" class=\"dataframe\">\n",
       "  <thead>\n",
       "    <tr style=\"text-align: right;\">\n",
       "      <th></th>\n",
       "      <th>text</th>\n",
       "      <th>labels</th>\n",
       "    </tr>\n",
       "    <tr>\n",
       "      <th>id</th>\n",
       "      <th></th>\n",
       "      <th></th>\n",
       "    </tr>\n",
       "  </thead>\n",
       "  <tbody>\n",
       "    <tr>\n",
       "      <th>89200</th>\n",
       "      <td>@USER @USER Who the hell does he think he is?</td>\n",
       "      <td>1</td>\n",
       "    </tr>\n",
       "    <tr>\n",
       "      <th>71294</th>\n",
       "      <td>#BREAKING. #Greece: Molotov cocktails fly afte...</td>\n",
       "      <td>1</td>\n",
       "    </tr>\n",
       "    <tr>\n",
       "      <th>55633</th>\n",
       "      <td>#OrrinHatch I can’t believe this sexist , clue...</td>\n",
       "      <td>1</td>\n",
       "    </tr>\n",
       "    <tr>\n",
       "      <th>16856</th>\n",
       "      <td>@USER @USER I'll use that one the next time im...</td>\n",
       "      <td>1</td>\n",
       "    </tr>\n",
       "    <tr>\n",
       "      <th>26072</th>\n",
       "      <td>0-1 lost my acca on the first fucking fight cba</td>\n",
       "      <td>1</td>\n",
       "    </tr>\n",
       "    <tr>\n",
       "      <th>...</th>\n",
       "      <td>...</td>\n",
       "      <td>...</td>\n",
       "    </tr>\n",
       "    <tr>\n",
       "      <th>45518</th>\n",
       "      <td>@USER He is obviously getting suspended. He is...</td>\n",
       "      <td>0</td>\n",
       "    </tr>\n",
       "    <tr>\n",
       "      <th>51610</th>\n",
       "      <td>#Canada - EXCLUSIVE: #Trudeau #Liberals leave ...</td>\n",
       "      <td>0</td>\n",
       "    </tr>\n",
       "    <tr>\n",
       "      <th>26758</th>\n",
       "      <td>@USER @USER ...than why did you show us how ho...</td>\n",
       "      <td>0</td>\n",
       "    </tr>\n",
       "    <tr>\n",
       "      <th>30718</th>\n",
       "      <td>@USER @USER @USER You have yet to answer what ...</td>\n",
       "      <td>0</td>\n",
       "    </tr>\n",
       "    <tr>\n",
       "      <th>82558</th>\n",
       "      <td>#MAGA  ... got any ideas how she could have do...</td>\n",
       "      <td>0</td>\n",
       "    </tr>\n",
       "  </tbody>\n",
       "</table>\n",
       "<p>100 rows × 2 columns</p>\n",
       "</div>"
      ],
      "text/plain": [
       "                                                    text  labels\n",
       "id                                                              \n",
       "89200      @USER @USER Who the hell does he think he is?       1\n",
       "71294  #BREAKING. #Greece: Molotov cocktails fly afte...       1\n",
       "55633  #OrrinHatch I can’t believe this sexist , clue...       1\n",
       "16856  @USER @USER I'll use that one the next time im...       1\n",
       "26072    0-1 lost my acca on the first fucking fight cba       1\n",
       "...                                                  ...     ...\n",
       "45518  @USER He is obviously getting suspended. He is...       0\n",
       "51610  #Canada - EXCLUSIVE: #Trudeau #Liberals leave ...       0\n",
       "26758  @USER @USER ...than why did you show us how ho...       0\n",
       "30718  @USER @USER @USER You have yet to answer what ...       0\n",
       "82558  #MAGA  ... got any ideas how she could have do...       0\n",
       "\n",
       "[100 rows x 2 columns]"
      ]
     },
     "execution_count": 4,
     "metadata": {},
     "output_type": "execute_result"
    }
   ],
   "source": [
    "#load subset\n",
    "subset = pd.read_csv(\"data\\olid-subset-diagnostic-tests.csv\", index_col = 0)\n",
    "subset"
   ]
  },
  {
   "cell_type": "code",
   "execution_count": 5,
   "metadata": {},
   "outputs": [],
   "source": [
    "#need spacy model\n",
    "nlp = spacy.load('en_core_web_sm')"
   ]
  },
  {
   "cell_type": "code",
   "execution_count": 14,
   "metadata": {},
   "outputs": [
    {
     "data": {
      "text/plain": [
       "100"
      ]
     },
     "execution_count": 14,
     "metadata": {},
     "output_type": "execute_result"
    }
   ],
   "source": [
    "#convert instances to list, then to spacy DOC tokens\n",
    "data = subset[\"text\"].tolist()\n",
    "pdataset = list(nlp.pipe(data))\n",
    "pdataset\n"
   ]
  },
  {
   "cell_type": "code",
   "execution_count": 7,
   "metadata": {},
   "outputs": [],
   "source": [
    "#add negation to sentences\n",
    "#only works on the second try for some reason, so quick patch\n",
    "try:\n",
    "    ret = Perturb.perturb(pdataset, Perturb.add_negation, keep_original=True)\n",
    "except:\n",
    "    ret = Perturb.perturb(pdataset, Perturb.add_negation, keep_original=True)"
   ]
  },
  {
   "cell_type": "code",
   "execution_count": 8,
   "metadata": {},
   "outputs": [
    {
     "data": {
      "text/plain": [
       "[['@USER @USER Who the hell does he think he is?',\n",
       "  \"@USER @USER Who the hell doesn't he think he is?\"],\n",
       " ['#BREAKING. #Greece: Molotov cocktails fly after protest honouring killed antifa arti... URL via @USER URL',\n",
       "  \"#BREAKING. #Greece: Molotov cocktails don't fly after protest honouring killed antifa arti... URL via @USER URL\"],\n",
       " ['#OrrinHatch I can’t believe this sexist , clueless, old fart gets to weigh in on another woman’s charges against a Supreme Court nominee. And he is spouting the same old nasty shit he spewed 20+ years ago against Anita Hill. His time’s up! Good riddance Neanderthal!',\n",
       "  '#OrrinHatch I can’t believe this sexist , clueless, old fart gets to weigh in on another woman’s charges against a Supreme Court nominee. And he is not spouting the same old nasty shit he spewed 20+ years ago against Anita Hill. His time’s up! Good riddance Neanderthal!'],\n",
       " [\"@USER @USER I'll use that one the next time im in a gun control debate or in a debate about free speech or taxes. Yes you can choose to be irresponsible or choose not to be. I argue responsible. Whats wrong with that? Don't justify murder by saying it was never alive or its my right.\",\n",
       "  \"@USER @USER I'll use that one the next time im in a gun control debate or in a debate about free speech or taxes. Yes you can't choose to be irresponsible or choose not to be. I argue responsible. Whats wrong with that? Don't justify murder by saying it was never alive or its my right.\"],\n",
       " ['0-1 lost my acca on the first fucking fight cba',\n",
       "  \"0-1 didn't lose my acca on the first fucking fight cba\"],\n",
       " ['#Bakersfield is why we need gun control! Sorry for the victims other than the gunman himself I hope he rots in hell!',\n",
       "  '#Bakersfield is not why we need gun control! Sorry for the victims other than the gunman himself I hope he rots in hell!'],\n",
       " ['#Christian #America – If we go by #Trump’s example, where liberals support open borders, I guess conservatives support school shootings.   Please explain how this makes America great again.',\n",
       "  \"#Christian #America – If we go by #Trump’s example, where liberals support open borders, I don't guess conservatives support school shootings.   Please explain how this makes America great again.\"],\n",
       " ['@USER @USER @USER She is the most disingenuous person in the Senate. If she was my Senator I would hide in shame after her despicable behavior in the SCOTUS hearings.',\n",
       "  '@USER @USER @USER She is not the most disingenuous person in the Senate. If she was my Senator I would hide in shame after her despicable behavior in the SCOTUS hearings.'],\n",
       " ['#Democrats #Liberals you are being #threatened by #Armed #Nazis and you talk about #disarmament of yourselves and of #Disconnection from the #Military #Lifestyle ?  You should #broadcast your #Armory and #killSkills #RightFuckingNOW URL',\n",
       "  \"#Democrats #Liberals you are being #threatened by #Armed #Nazis and you talk about #disarmament of yourselves and of #Disconnection from the #Military #Lifestyle ?  You shouldn't #broadcast your #Armory and #killSkills #RightFuckingNOW URL\"],\n",
       " ['699. Just wanted to tell you you should Hang Out With Me More. i think it’ll be fun! Also, lmao dick for a tongue? So people can easily suck me off. HAHA kidding aside, i aint want a tongue as my dick that looks hella weird.. but my choice was weird to but WHATEVER',\n",
       "  \"699. Just didn't want to tell you you should Hang Out With Me More. i think it’ll be fun! Also, lmao dick for a tongue? So people can easily suck me off. HAHA kidding aside, i aint want a tongue as my dick that looks hella weird.. but my choice was weird to but WHATEVER\"]]"
      ]
     },
     "execution_count": 8,
     "metadata": {},
     "output_type": "execute_result"
    }
   ],
   "source": [
    "#question 2 & 3: look at first 10 examples\n",
    "ret.data[:10]"
   ]
  },
  {
   "cell_type": "code",
   "execution_count": 9,
   "metadata": {},
   "outputs": [
    {
     "data": {
      "application/vnd.jupyter.widget-view+json": {
       "model_id": "5cffe6ca6bcb408f93c5f9e526241035",
       "version_major": 2,
       "version_minor": 0
      },
      "text/plain": [
       "  0%|          | 0/1 [00:00<?, ?it/s]"
      ]
     },
     "metadata": {},
     "output_type": "display_data"
    },
    {
     "data": {
      "application/vnd.jupyter.widget-view+json": {
       "model_id": "720bc9e2eacc4487b66f9ce510531a4c",
       "version_major": 2,
       "version_minor": 0
      },
      "text/plain": [
       "  0%|          | 0/1 [00:00<?, ?it/s]"
      ]
     },
     "metadata": {},
     "output_type": "display_data"
    },
    {
     "data": {
      "application/vnd.jupyter.widget-view+json": {
       "model_id": "781df47a98c847b1aca96cc47ed1869d",
       "version_major": 2,
       "version_minor": 0
      },
      "text/plain": [
       "  0%|          | 0/1 [00:00<?, ?it/s]"
      ]
     },
     "metadata": {},
     "output_type": "display_data"
    },
    {
     "data": {
      "application/vnd.jupyter.widget-view+json": {
       "model_id": "6a97a981fa784e6fa02e9f89c9077685",
       "version_major": 2,
       "version_minor": 0
      },
      "text/plain": [
       "  0%|          | 0/1 [00:00<?, ?it/s]"
      ]
     },
     "metadata": {},
     "output_type": "display_data"
    }
   ],
   "source": [
    "pred_orig = model.predict([ret.data[0][0]])\n",
    "pred_perturb = model.predict([ret.data[0][1]])"
   ]
  },
  {
   "cell_type": "code",
   "execution_count": 10,
   "metadata": {},
   "outputs": [
    {
     "name": "stdout",
     "output_type": "stream",
     "text": [
      "@USER @USER Who the hell does he think he is?\n",
      "original data: ([1], array([[-3.064749  ,  2.16581225]]))\n",
      "perturbed data: ([1], array([[-3.01825523,  2.13671899]]))\n"
     ]
    },
    {
     "data": {
      "text/plain": [
       "95"
      ]
     },
     "execution_count": 10,
     "metadata": {},
     "output_type": "execute_result"
    }
   ],
   "source": [
    "print(ret.data[0][0])\n",
    "print(f'original data: {pred_orig}')\n",
    "print(f'perturbed data: {pred_perturb}')\n",
    "len(ret.data)"
   ]
  },
  {
   "cell_type": "code",
   "execution_count": 11,
   "metadata": {},
   "outputs": [
    {
     "data": {
      "application/vnd.jupyter.widget-view+json": {
       "model_id": "b7a43b4cd9df42cd824d5c96e6d49bb7",
       "version_major": 2,
       "version_minor": 0
      },
      "text/plain": [
       "  0%|          | 0/95 [00:00<?, ?it/s]"
      ]
     },
     "metadata": {},
     "output_type": "display_data"
    },
    {
     "data": {
      "application/vnd.jupyter.widget-view+json": {
       "model_id": "57b3f7e623f34cf39dc3c6b9bd180c19",
       "version_major": 2,
       "version_minor": 0
      },
      "text/plain": [
       "  0%|          | 0/12 [00:00<?, ?it/s]"
      ]
     },
     "metadata": {},
     "output_type": "display_data"
    },
    {
     "data": {
      "application/vnd.jupyter.widget-view+json": {
       "model_id": "e50119f9aeea424ca61c4646b5e59c15",
       "version_major": 2,
       "version_minor": 0
      },
      "text/plain": [
       "  0%|          | 0/95 [00:00<?, ?it/s]"
      ]
     },
     "metadata": {},
     "output_type": "display_data"
    },
    {
     "data": {
      "application/vnd.jupyter.widget-view+json": {
       "model_id": "4d1a73412fe448d982e459f85dda3fbd",
       "version_major": 2,
       "version_minor": 0
      },
      "text/plain": [
       "  0%|          | 0/12 [00:00<?, ?it/s]"
      ]
     },
     "metadata": {},
     "output_type": "display_data"
    }
   ],
   "source": [
    "#make prediction for original data and perturbed data to compare\n",
    "original_predictions=model.predict([sent[0] for _, sent in enumerate(ret.data)])\n",
    "perturb_predictions=model.predict([sent[1] for _, sent in enumerate(ret.data)])"
   ]
  },
  {
   "cell_type": "code",
   "execution_count": 13,
   "metadata": {},
   "outputs": [
    {
     "name": "stdout",
     "output_type": "stream",
     "text": [
      "[1, 0, 1, 0, 1, 1, 0, 1, 0, 1, 0, 1, 1, 1, 1, 1, 1, 1, 1, 1, 1, 1, 0, 0, 0, 0, 1, 1, 0, 1, 0, 1, 1, 1, 0, 1, 1, 1, 0, 1, 1, 1, 1, 0, 1, 0, 1, 0, 0, 1, 0, 0, 0, 0, 0, 0, 0, 0, 0, 1, 0, 0, 1, 0, 0, 0, 0, 0, 1, 0, 0, 0, 0, 0, 0, 1, 0, 0, 0, 0, 1, 0, 0, 0, 0, 0, 0, 0, 0, 0, 0, 0, 0, 0, 0]\n",
      "[1, 0, 1, 0, 1, 1, 0, 1, 0, 1, 0, 1, 1, 1, 1, 1, 1, 1, 1, 1, 1, 1, 0, 0, 0, 0, 1, 1, 0, 1, 0, 1, 1, 1, 0, 1, 1, 1, 0, 1, 1, 1, 1, 0, 1, 0, 1, 0, 0, 1, 0, 0, 0, 0, 0, 0, 0, 0, 0, 1, 0, 0, 1, 0, 0, 0, 0, 0, 1, 0, 0, 0, 0, 0, 0, 1, 0, 0, 0, 0, 1, 0, 0, 1, 0, 0, 0, 0, 0, 0, 0, 0, 0, 0, 0]\n"
     ]
    },
    {
     "data": {
      "text/plain": [
       "95"
      ]
     },
     "execution_count": 13,
     "metadata": {},
     "output_type": "execute_result"
    }
   ],
   "source": [
    "print(perturb_predictions[0])\n",
    "print(original_predictions[0])"
   ]
  },
  {
   "cell_type": "code",
   "execution_count": 17,
   "metadata": {},
   "outputs": [
    {
     "name": "stdout",
     "output_type": "stream",
     "text": [
      "[0, 0, 0, 0, 0, 0, 0, 0, 0, 0, 0, 0, 0, 0, 0, 0, 0, 0, 0, 0, 0, 0, 0, 0, 0, 0, 0, 0, 0, 0, 0, 0, 0, 0, 0, 0, 0, 0, 0, 0, 0, 0, 0, 0, 0, 0, 0, 0, 0, 0, 0, 0, 0, 0, 0, 0, 0, 0, 0, 0, 0, 0, 0, 0, 0, 0, 0, 0, 0, 0, 0, 0, 0, 0, 0, 0, 0, 0, 0, 0, 0, 0, 0, 1, 0, 0, 0, 0, 0, 0, 0, 0, 0, 0, 0]\n",
      "1\n"
     ]
    }
   ],
   "source": [
    "#check where model assigned different label after perturb\n",
    "compare_order = [0 if i==j else 1 for i, j in zip(perturb_predictions[0],original_predictions[0])]\n",
    "print(compare_order)\n",
    "print(sum(compare_order))\n",
    "#only 1 sentence changed label"
   ]
  },
  {
   "cell_type": "code",
   "execution_count": 18,
   "metadata": {},
   "outputs": [
    {
     "name": "stdout",
     "output_type": "stream",
     "text": [
      "@USER #MAGA who cares about the farm.  He had no reason to commit murder. End of story.\n",
      "@USER #MAGA who cares about the farm.  He didn't have no reason to commit murder. End of story.\n"
     ]
    }
   ],
   "source": [
    "idx=compare_order.index(1)\n",
    "print(ret.data[idx][0])\n",
    "print(ret.data[idx][1])"
   ]
  },
  {
   "cell_type": "code",
   "execution_count": 19,
   "metadata": {},
   "outputs": [
    {
     "data": {
      "text/html": [
       "<div>\n",
       "<style scoped>\n",
       "    .dataframe tbody tr th:only-of-type {\n",
       "        vertical-align: middle;\n",
       "    }\n",
       "\n",
       "    .dataframe tbody tr th {\n",
       "        vertical-align: top;\n",
       "    }\n",
       "\n",
       "    .dataframe thead th {\n",
       "        text-align: right;\n",
       "    }\n",
       "</style>\n",
       "<table border=\"1\" class=\"dataframe\">\n",
       "  <thead>\n",
       "    <tr style=\"text-align: right;\">\n",
       "      <th></th>\n",
       "      <th>text</th>\n",
       "      <th>labels</th>\n",
       "    </tr>\n",
       "    <tr>\n",
       "      <th>id</th>\n",
       "      <th></th>\n",
       "      <th></th>\n",
       "    </tr>\n",
       "  </thead>\n",
       "  <tbody>\n",
       "    <tr>\n",
       "      <th>79934</th>\n",
       "      <td>@USER 'cause everyone knows a real leader fall...</td>\n",
       "      <td>1</td>\n",
       "    </tr>\n",
       "  </tbody>\n",
       "</table>\n",
       "</div>"
      ],
      "text/plain": [
       "                                                    text  labels\n",
       "id                                                              \n",
       "79934  @USER 'cause everyone knows a real leader fall...       1"
      ]
     },
     "execution_count": 19,
     "metadata": {},
     "output_type": "execute_result"
    }
   ],
   "source": [
    "#get id of tweet\n",
    "subset.loc[subset['text'].str.contains(\"cause everyone knows a real leader falls into a van like a sack of potatoes\")]"
   ]
  },
  {
   "cell_type": "code",
   "execution_count": null,
   "metadata": {},
   "outputs": [],
   "source": []
  }
 ],
 "metadata": {
  "interpreter": {
   "hash": "4c384c772ea30b5a22e0cf3217d09eec4d0111be9d0c7dd0cf6c7382ab4e0cd8"
  },
  "kernelspec": {
   "display_name": "Python 3 (ipykernel)",
   "language": "python",
   "name": "python3"
  },
  "language_info": {
   "codemirror_mode": {
    "name": "ipython",
    "version": 3
   },
   "file_extension": ".py",
   "mimetype": "text/x-python",
   "name": "python",
   "nbconvert_exporter": "python",
   "pygments_lexer": "ipython3",
   "version": "3.8.13"
  }
 },
 "nbformat": 4,
 "nbformat_minor": 2
}
