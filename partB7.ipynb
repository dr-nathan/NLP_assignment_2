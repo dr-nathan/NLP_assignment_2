{
 "cells": [
  {
   "cell_type": "code",
   "execution_count": 1,
   "id": "fa484319",
   "metadata": {},
   "outputs": [],
   "source": [
    "import nltk\n",
    "import spacy\n",
    "# nltk.download('omw-1.4')"
   ]
  },
  {
   "cell_type": "code",
   "execution_count": 2,
   "id": "b48df7e5",
   "metadata": {},
   "outputs": [],
   "source": [
    "import checklist\n",
    "from checklist.editor import Editor\n",
    "from checklist.perturb import Perturb\n",
    "from simpletransformers.classification import ClassificationModel\n",
    "\n",
    "import pandas as pd\n",
    "import numpy as np\n",
    "\n",
    "np.random.seed(42)\n",
    "\n",
    "editor = Editor()\n",
    "\n",
    "nlp = spacy.load('en_core_web_sm')"
   ]
  },
  {
   "cell_type": "code",
   "execution_count": 3,
   "id": "03664c5e",
   "metadata": {},
   "outputs": [],
   "source": [
    "#ret_nonoff = editor.template(\"I don't hate {mask}\")\n",
    "#ret_off = editor.template(\"I hate {mask}\")\n",
    "\n",
    "print(ret_nonoff.data[0:10])\n",
    "print(ret_off.data[0:10])"
   ]
  },
  {
   "cell_type": "code",
   "execution_count": 5,
   "id": "94406400",
   "metadata": {},
   "outputs": [
    {
     "name": "stdout",
     "output_type": "stream",
     "text": [
      "[\"I don't hate Christianity\", \"I don't hate Judaism\", \"I don't hate Islam\", \"I don't hate Buddhism\", \"I don't hate Zoroastrianism\", \"I don't hate Hinduism\", \"I don't hate Sikhism\", \"I don't hate Shintoism\", \"I don't hate Baha'i\", \"I don't hate Taoism\"]\n",
      "['I hate Christianity', 'I hate Judaism', 'I hate Islam', 'I hate Buddhism', 'I hate Zoroastrianism', 'I hate Hinduism', 'I hate Sikhism', 'I hate Shintoism', \"I hate Baha'i\", 'I hate Taoism']\n"
     ]
    }
   ],
   "source": [
    "religion_nonoff = editor.template(\"I don't hate {religion}\")\n",
    "religion_off = editor.template(\"I hate {religion}\")\n",
    "\n",
    "print(religion_nonoff.data[0:10])\n",
    "print(religion_off.data[0:10])"
   ]
  },
  {
   "cell_type": "code",
   "execution_count": 6,
   "id": "b76e863a",
   "metadata": {},
   "outputs": [
    {
     "name": "stdout",
     "output_type": "stream",
     "text": [
      "[\"I don't hate Chinese\", \"I don't hate Indian\", \"I don't hate American\", \"I don't hate Indonesian\", \"I don't hate Pakistani\", \"I don't hate Brazilian\", \"I don't hate Nigerian\", \"I don't hate Bangladeshi\", \"I don't hate Russian\", \"I don't hate Japanese\"]\n",
      "['I hate Chinese', 'I hate Indian', 'I hate American', 'I hate Indonesian', 'I hate Pakistani', 'I hate Brazilian', 'I hate Nigerian', 'I hate Bangladeshi', 'I hate Russian', 'I hate Japanese']\n"
     ]
    }
   ],
   "source": [
    "nat_nonoff = editor.template(\"I don't hate {nationality}\")\n",
    "nat_off = editor.template(\"I hate {nationality}\")\n",
    "\n",
    "print(nat_nonoff.data[0:10])\n",
    "print(nat_off.data[0:10])"
   ]
  },
  {
   "cell_type": "code",
   "execution_count": 17,
   "id": "bca61cf3",
   "metadata": {},
   "outputs": [],
   "source": [
    "#load local model\n",
    "model = ClassificationModel(\"bert\", \"outputs\", use_cuda = False)"
   ]
  },
  {
   "cell_type": "code",
   "execution_count": 18,
   "id": "fd28b4f4",
   "metadata": {},
   "outputs": [
    {
     "data": {
      "application/vnd.jupyter.widget-view+json": {
       "model_id": "ca85c58a41514545b2bf06c9be30c100",
       "version_major": 2,
       "version_minor": 0
      },
      "text/plain": [
       "  0%|          | 0/14 [00:00<?, ?it/s]"
      ]
     },
     "metadata": {},
     "output_type": "display_data"
    },
    {
     "data": {
      "application/vnd.jupyter.widget-view+json": {
       "model_id": "1f3d0f95974649acbad5d00ccb8fd9cb",
       "version_major": 2,
       "version_minor": 0
      },
      "text/plain": [
       "  0%|          | 0/2 [00:00<?, ?it/s]"
      ]
     },
     "metadata": {},
     "output_type": "display_data"
    },
    {
     "data": {
      "application/vnd.jupyter.widget-view+json": {
       "model_id": "e566f8b867754fec9e67dce4fd8f0b78",
       "version_major": 2,
       "version_minor": 0
      },
      "text/plain": [
       "  0%|          | 0/14 [00:00<?, ?it/s]"
      ]
     },
     "metadata": {},
     "output_type": "display_data"
    },
    {
     "data": {
      "application/vnd.jupyter.widget-view+json": {
       "model_id": "98d52ea257ed4ca1b4c663178228353a",
       "version_major": 2,
       "version_minor": 0
      },
      "text/plain": [
       "  0%|          | 0/2 [00:00<?, ?it/s]"
      ]
     },
     "metadata": {},
     "output_type": "display_data"
    }
   ],
   "source": [
    "rel_off_predictions=model.predict(religion_off.data)\n",
    "rel_nonoff_predictions=model.predict(religion_nonoff.data)"
   ]
  },
  {
   "cell_type": "code",
   "execution_count": 19,
   "id": "9cd7c2a6",
   "metadata": {},
   "outputs": [
    {
     "name": "stdout",
     "output_type": "stream",
     "text": [
      "[1, 1, 1, 1, 1, 1, 1, 1, 1, 1, 1, 1, 1, 1]\n",
      "[0, 0, 1, 0, 1, 0, 0, 1, 1, 0, 0, 1, 1, 0]\n"
     ]
    }
   ],
   "source": [
    "print(rel_off_predictions[0])\n",
    "print(rel_nonoff_predictions[0])\n",
    "#seems to work oke!"
   ]
  },
  {
   "cell_type": "code",
   "execution_count": 20,
   "id": "4d499b46",
   "metadata": {},
   "outputs": [
    {
     "data": {
      "application/vnd.jupyter.widget-view+json": {
       "model_id": "4cc42a687d6647559412d53357a6f344",
       "version_major": 2,
       "version_minor": 0
      },
      "text/plain": [
       "  0%|          | 0/215 [00:00<?, ?it/s]"
      ]
     },
     "metadata": {},
     "output_type": "display_data"
    },
    {
     "data": {
      "application/vnd.jupyter.widget-view+json": {
       "model_id": "801b5a1721e2450b8ed1952378672fae",
       "version_major": 2,
       "version_minor": 0
      },
      "text/plain": [
       "  0%|          | 0/27 [00:00<?, ?it/s]"
      ]
     },
     "metadata": {},
     "output_type": "display_data"
    },
    {
     "data": {
      "application/vnd.jupyter.widget-view+json": {
       "model_id": "3fb00c945ac54ec78e80dd0d3f906444",
       "version_major": 2,
       "version_minor": 0
      },
      "text/plain": [
       "  0%|          | 0/215 [00:00<?, ?it/s]"
      ]
     },
     "metadata": {},
     "output_type": "display_data"
    },
    {
     "data": {
      "application/vnd.jupyter.widget-view+json": {
       "model_id": "d0e3d14cda094c939bb3f77c386e99ca",
       "version_major": 2,
       "version_minor": 0
      },
      "text/plain": [
       "  0%|          | 0/27 [00:00<?, ?it/s]"
      ]
     },
     "metadata": {},
     "output_type": "display_data"
    }
   ],
   "source": [
    "nat_off_predictions=model.predict(nat_off.data)\n",
    "nat_nonoff_predictions=model.predict(nat_nonoff.data)"
   ]
  },
  {
   "cell_type": "code",
   "execution_count": 21,
   "id": "af3bd1bf",
   "metadata": {},
   "outputs": [
    {
     "name": "stdout",
     "output_type": "stream",
     "text": [
      "[1, 1, 1, 1, 1, 1, 1, 1, 1, 1, 1, 1, 1, 1, 1, 1, 1, 1, 1, 1, 1, 1, 1, 1, 1, 1, 1, 1, 1, 1, 1, 1, 1, 1, 1, 1, 0, 1, 1, 1, 1, 1, 1, 1, 1, 1, 1, 1, 1, 1, 1, 1, 1, 1, 1, 1, 1, 1, 1, 1, 1, 1, 1, 1, 1, 1, 1, 1, 1, 1, 1, 1, 1, 1, 1, 1, 1, 1, 1, 1, 1, 1, 1, 1, 1, 1, 1, 1, 1, 1, 1, 1, 1, 1, 1, 1, 1, 1, 1, 1, 1, 1, 1, 1, 1, 1, 1, 1, 1, 1, 1, 1, 1, 1, 1, 1, 1, 1, 1, 1, 1, 1, 1, 1, 1, 1, 1, 1, 1, 1, 1, 1, 1, 1, 1, 1, 1, 1, 1, 1, 1, 1, 1, 1, 1, 1, 1, 0, 1, 1, 1, 1, 1, 1, 1, 1, 1, 1, 1, 1, 1, 1, 1, 1, 1, 1, 1, 1, 1, 1, 1, 1, 1, 1, 1, 1, 1, 1, 1, 0, 1, 1, 1, 1, 1, 1, 1, 1, 1, 1, 1, 1, 1, 1, 1, 1, 1, 0, 1, 1, 1, 1, 1, 1, 1, 1, 1, 1, 1, 1, 1, 1, 1, 1, 1]\n",
      "[1, 1, 1, 0, 1, 0, 1, 1, 0, 0, 1, 1, 0, 1, 1, 1, 1, 1, 0, 0, 1, 0, 0, 0, 0, 1, 1, 1, 1, 1, 0, 0, 0, 1, 1, 1, 0, 0, 1, 1, 1, 1, 0, 0, 0, 1, 0, 1, 1, 0, 0, 0, 0, 1, 1, 1, 0, 1, 0, 1, 0, 0, 1, 0, 1, 0, 0, 0, 1, 0, 0, 0, 0, 0, 0, 0, 1, 0, 1, 0, 1, 1, 0, 1, 0, 1, 1, 1, 1, 1, 1, 1, 1, 1, 0, 1, 1, 0, 0, 1, 1, 0, 0, 1, 1, 0, 0, 0, 1, 0, 0, 0, 1, 0, 0, 1, 0, 1, 1, 0, 0, 0, 0, 1, 0, 0, 0, 1, 1, 0, 1, 1, 1, 0, 1, 1, 0, 0, 0, 0, 0, 0, 0, 1, 1, 0, 0, 0, 0, 0, 1, 0, 0, 1, 0, 0, 0, 1, 0, 1, 0, 0, 1, 0, 1, 1, 0, 0, 1, 0, 0, 1, 0, 0, 1, 0, 1, 0, 1, 0, 1, 0, 0, 1, 0, 0, 1, 0, 1, 0, 0, 1, 1, 1, 0, 1, 0, 0, 0, 1, 0, 0, 1, 0, 0, 0, 1, 0, 0, 0, 0, 1, 0, 0, 0]\n"
     ]
    }
   ],
   "source": [
    "print(nat_off_predictions[0])\n",
    "print(nat_nonoff_predictions[0])"
   ]
  },
  {
   "cell_type": "code",
   "execution_count": null,
   "id": "9d59ede4",
   "metadata": {},
   "outputs": [],
   "source": []
  }
 ],
 "metadata": {
  "kernelspec": {
   "display_name": "Python 3 (ipykernel)",
   "language": "python",
   "name": "python3"
  },
  "language_info": {
   "codemirror_mode": {
    "name": "ipython",
    "version": 3
   },
   "file_extension": ".py",
   "mimetype": "text/x-python",
   "name": "python",
   "nbconvert_exporter": "python",
   "pygments_lexer": "ipython3",
   "version": "3.8.13"
  }
 },
 "nbformat": 4,
 "nbformat_minor": 5
}
